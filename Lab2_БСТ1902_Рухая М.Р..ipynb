{
 "cells": [
  {
   "cell_type": "markdown",
   "metadata": {},
   "source": [
    "# Лабораторная работа №2\n",
    "## Выполнила студентка группы БСБ1902 Рухая М.Р."
   ]
  },
  {
   "cell_type": "markdown",
   "metadata": {},
   "source": [
    "### Задание №1\n",
    "Организовать генерацию начального набора случайных данных. Реализовать методы поиска в соответствии с заданием."
   ]
  },
  {
   "cell_type": "markdown",
   "metadata": {},
   "source": [
    "#### Генерация массива"
   ]
  },
  {
   "cell_type": "code",
   "execution_count": 161,
   "metadata": {
    "scrolled": true
   },
   "outputs": [
    {
     "name": "stdout",
     "output_type": "stream",
     "text": [
      "Исходный массив:\n",
      "\n",
      " [12, 12, 50, 77, 84, 90, 116, 119]\n"
     ]
    }
   ],
   "source": [
    "import random\n",
    "import numpy\n",
    "\n",
    "arr = []\n",
    "for i in range(8):\n",
    "    arr.append(random.randint(0,123))\n",
    "arr1=arr.copy()\n",
    "arr.sort()\n",
    "print('Исходный массив:\\n\\n',arr)"
   ]
  },
  {
   "cell_type": "markdown",
   "metadata": {},
   "source": [
    "#### Методы поиска:"
   ]
  },
  {
   "cell_type": "markdown",
   "metadata": {},
   "source": [
    "#### 1. Бинарный поиск"
   ]
  },
  {
   "cell_type": "code",
   "execution_count": 162,
   "metadata": {},
   "outputs": [],
   "source": [
    "def BinSearch(arr,x):\n",
    "    left = 0\n",
    "    right = len(arr)-1\n",
    "    mid = int(right/2)\n",
    "    while arr[mid] != x and left <= right:\n",
    "        if x > arr[mid]:\n",
    "            left = mid+1\n",
    "        else:\n",
    "            right = mid-1\n",
    "        mid = int((left+right)/2)\n",
    "    if left > right:\n",
    "        return -1\n",
    "    else:\n",
    "        return mid"
   ]
  },
  {
   "cell_type": "code",
   "execution_count": 163,
   "metadata": {
    "scrolled": true
   },
   "outputs": [
    {
     "name": "stdout",
     "output_type": "stream",
     "text": [
      "Исходный массив:\n",
      "\n",
      " [12, 12, 50, 77, 84, 90, 116, 119]\n",
      "\n",
      "Введите элемент для поиска: 12\n",
      "\n",
      "Найден элемент с индексом:  1\n",
      "\n",
      "Вы хотите удалить данный элемент?\n",
      "\t1 - да, хочу\n",
      " \t2 - нет, не хочу\n",
      "\n",
      "Выбранный вариант: 1\n",
      "\n",
      "Новый массив:\n",
      "\n",
      " [12, 50, 77, 84, 90, 116, 119]\n"
     ]
    }
   ],
   "source": [
    "print('Исходный массив:\\n\\n',arr)\n",
    "x = int(input('\\nВведите элемент для поиска: '))\n",
    "a=BinSearch(arr,x)\n",
    "if a==-1:\n",
    "    print('\\nНе найден элемент')\n",
    "else:\n",
    "    print('\\nНайден элемент с индексом: ',a)\n",
    "    print('\\nВы хотите удалить данный элемент?')\n",
    "    print('\\t1 - да, хочу\\n \\t2 - нет, не хочу')\n",
    "    b=int(input('\\nВыбранный вариант: '))\n",
    "    if b==1:\n",
    "        del arr[a]\n",
    "        print('\\nНовый массив:\\n\\n',arr)"
   ]
  },
  {
   "cell_type": "markdown",
   "metadata": {},
   "source": [
    "#### 2. Бинарное дерево"
   ]
  },
  {
   "cell_type": "code",
   "execution_count": 164,
   "metadata": {},
   "outputs": [],
   "source": [
    "class BST:\n",
    "    \n",
    "    # Конструктар класса\n",
    "    def __init__(self, val=None):\n",
    "        self.left = None\n",
    "        self.right = None\n",
    "        self.val = val\n",
    "\n",
    "    # Метод для вывода\n",
    "    def __str__(self):\n",
    "        return \"[%s, %s, %s]\" % (self.left, str(self.val), self.right)\n",
    "\n",
    "    # Метод для проверки ячейки на пустоту\n",
    "    def isEmpty(self):\n",
    "        return self.left == self.right == self.val == None\n",
    "\n",
    "    # Метод вставки\n",
    "    def insert(self, val):\n",
    "        if self.isEmpty():\n",
    "            self.val = val\n",
    "        elif val < self.val:\n",
    "            if self.left is None:\n",
    "                self.left = BST(val)\n",
    "            else:\n",
    "                self.left.insert(val)\n",
    "        else:\n",
    "            if self.right is None:\n",
    "                self.right = BST(val)\n",
    "            else:\n",
    "                self.right.insert(val)\n",
    "                \n",
    "                \n",
    "    # Метод поиска\n",
    "    def findval(self, lkpval):\n",
    "        if lkpval < self.val:\n",
    "            if self.left is None:\n",
    "                return ('Элемент \\\"'+str(lkpval)+'\\\" не найден')\n",
    "            return self.left.findval(lkpval)\n",
    "        elif lkpval > self.val:\n",
    "            if self.right is None:\n",
    "                return ('Элемент \\\"'+str(lkpval)+'\\\" не найден')\n",
    "            return self.right.findval(lkpval)\n",
    "        else:\n",
    "            print('Элемент \\\"'+str(self.val)+'\\\" найден')"
   ]
  },
  {
   "cell_type": "code",
   "execution_count": 165,
   "metadata": {},
   "outputs": [
    {
     "name": "stdout",
     "output_type": "stream",
     "text": [
      "Бинарное дерево:  [[[None, 12, [None, 12, [[None, 50, None], 77, [None, 84, None]]]], 90, None], 116, [None, 119, None]]\n",
      "\n",
      "Введите элемент для поиска: 50\n",
      "Элемент \"50\" найден\n"
     ]
    }
   ],
   "source": [
    "a = BST(arr1[0])\n",
    "for i in range(1,len(arr1)):\n",
    "    a.insert(arr1[i])\n",
    "    \n",
    "print(\"Бинарное дерево: \",a)\n",
    "\n",
    "x = int(input('\\nВведите элемент для поиска: '))\n",
    "a.findval(x)"
   ]
  },
  {
   "cell_type": "markdown",
   "metadata": {},
   "source": [
    "#### 3. Фибоначчиев"
   ]
  },
  {
   "cell_type": "code",
   "execution_count": 166,
   "metadata": {},
   "outputs": [],
   "source": [
    "def FibonacciSearch(arr, x):\n",
    "    fibM_minus_2 = 0\n",
    "    fibM_minus_1 = 1\n",
    "    fibM = fibM_minus_1 + fibM_minus_2\n",
    "    while (fibM < len(arr)):\n",
    "        fibM_minus_2 = fibM_minus_1\n",
    "        fibM_minus_1 = fibM\n",
    "        fibM = fibM_minus_1 + fibM_minus_2\n",
    "    index = -1;\n",
    "    while (fibM > 1):\n",
    "        i = min(index + fibM_minus_2, (len(arr)-1))\n",
    "        if (arr[i] < x):\n",
    "            fibM = fibM_minus_1\n",
    "            fibM_minus_1 = fibM_minus_2\n",
    "            fibM_minus_2 = fibM - fibM_minus_1\n",
    "            index = i\n",
    "        elif (arr[i] > x):\n",
    "            fibM = fibM_minus_2\n",
    "            fibM_minus_1 = fibM_minus_1 - fibM_minus_2\n",
    "            fibM_minus_2 = fibM - fibM_minus_1\n",
    "        else :\n",
    "            return i\n",
    "    if(fibM_minus_1 and index < (len(arr)-1) and arr[index+1] == x):\n",
    "        return index+1;\n",
    "    return -1"
   ]
  },
  {
   "cell_type": "code",
   "execution_count": 167,
   "metadata": {},
   "outputs": [
    {
     "name": "stdout",
     "output_type": "stream",
     "text": [
      "Исходный массив:\n",
      "\n",
      " [12, 50, 77, 84, 90, 116, 119]\n",
      "\n",
      "Введите элемент для поиска: 116\n",
      "\n",
      "Найден элемент с индексом:  5\n",
      "\n",
      "Вы хотите удалить данный элемент?\n",
      "\t1 - да, хочу\n",
      " \t2 - нет, не хочу\n",
      "\n",
      "Выбранный вариант: 2\n"
     ]
    }
   ],
   "source": [
    "print('Исходный массив:\\n\\n',arr)\n",
    "x = int(input('\\nВведите элемент для поиска: '))\n",
    "a=FibonacciSearch(arr,x)\n",
    "if a==-1:\n",
    "    print('\\nНе найден элемент')\n",
    "else:\n",
    "    print('\\nНайден элемент с индексом: ',a)\n",
    "    print('\\nВы хотите удалить данный элемент?')\n",
    "    print('\\t1 - да, хочу\\n \\t2 - нет, не хочу')\n",
    "    b=int(input('\\nВыбранный вариант: '))\n",
    "    if b==1:\n",
    "        del arr[a]\n",
    "        print('\\nНовый массив:\\n\\n',arr)"
   ]
  },
  {
   "cell_type": "markdown",
   "metadata": {},
   "source": [
    "#### 4. Интерполяционный"
   ]
  },
  {
   "cell_type": "code",
   "execution_count": 168,
   "metadata": {},
   "outputs": [],
   "source": [
    "def InterpolationSearch(arr, x):\n",
    "    low = 0\n",
    "    high = (len(arr) - 1)\n",
    "    while low <= high and x >= arr[low] and x <= arr[high]:\n",
    "        index = low + int(((float(high - low) / ( arr[high] - arr[low])) * ( x - arr[low])))\n",
    "        if arr[index] == x:\n",
    "            return index\n",
    "        if arr[index] < x:\n",
    "            low = index + 1;\n",
    "        else:\n",
    "            high = index - 1;\n",
    "    return -1"
   ]
  },
  {
   "cell_type": "code",
   "execution_count": 169,
   "metadata": {
    "scrolled": false
   },
   "outputs": [
    {
     "name": "stdout",
     "output_type": "stream",
     "text": [
      "Исходный массив:\n",
      "\n",
      " [12, 50, 77, 84, 90, 116, 119]\n",
      "\n",
      "Введите элемент для поиска: 89\n",
      "\n",
      "Не найден элемент\n"
     ]
    }
   ],
   "source": [
    "print('Исходный массив:\\n\\n',arr)\n",
    "x = int(input('\\nВведите элемент для поиска: '))\n",
    "a=InterpolationSearch(arr,x)\n",
    "if a==-1:\n",
    "    print('\\nНе найден элемент')\n",
    "else:\n",
    "    print('\\nНайден элемент с индексом: ',a)\n",
    "    print('\\nВы хотите удалить данный элемент?')\n",
    "    print('\\t1 - да, хочу\\n \\t2 - нет, не хочу')\n",
    "    b=int(input('\\nВыбранный вариант: '))\n",
    "    if b==1:\n",
    "        del arr[a]\n",
    "        print('\\nНовый массив:\\n\\n',arr)"
   ]
  },
  {
   "cell_type": "markdown",
   "metadata": {},
   "source": [
    "### Задание №2\n"
   ]
  },
  {
   "cell_type": "markdown",
   "metadata": {},
   "source": [
    "#### Генерация слов"
   ]
  },
  {
   "cell_type": "code",
   "execution_count": 193,
   "metadata": {
    "scrolled": true
   },
   "outputs": [
    {
     "name": "stdout",
     "output_type": "stream",
     "text": [
      "Исходный список слов:\n",
      "\n",
      " ['OolrJ', 'bj', 'we', 'Hi', 'HvWgjhW']\n"
     ]
    }
   ],
   "source": [
    "import string\n",
    "\n",
    "words1 = []\n",
    "words1 = [\"\".join(random.choice(string.ascii_letters) for j in range(random.randint(2,10)) ) for i in range(random.randint(5,10)) ]\n",
    "\n",
    "print('Исходный список слов:\\n\\n',words1)"
   ]
  },
  {
   "cell_type": "markdown",
   "metadata": {},
   "source": [
    "#### Функция хеширования"
   ]
  },
  {
   "cell_type": "code",
   "execution_count": 194,
   "metadata": {},
   "outputs": [],
   "source": [
    "def GetHash(word):\n",
    "    hash = 1\n",
    "    for i in range(len(word)):\n",
    "        hash *= ord(word[i])*12\n",
    "    hash %= 10000\n",
    "    return hash"
   ]
  },
  {
   "cell_type": "markdown",
   "metadata": {},
   "source": [
    "#### Функции рехеширования:"
   ]
  },
  {
   "cell_type": "markdown",
   "metadata": {},
   "source": [
    " #### 1. Простое рехеширование"
   ]
  },
  {
   "cell_type": "code",
   "execution_count": 195,
   "metadata": {},
   "outputs": [],
   "source": [
    "def SimpleRehash(word,count):\n",
    "    hash = 1\n",
    "    for i in range(len(word)):\n",
    "        hash *= ord(word[i])*(12+count)\n",
    "    hash %= 10000\n",
    "    return hash"
   ]
  },
  {
   "cell_type": "markdown",
   "metadata": {},
   "source": [
    "#### 2. Рехеширование с помошью псевдослучайных чисел"
   ]
  },
  {
   "cell_type": "code",
   "execution_count": 196,
   "metadata": {},
   "outputs": [],
   "source": [
    "def RandomRehash(word):\n",
    "    hash = 1\n",
    "    for i in range(len(word)):\n",
    "        hash *= ord(word[i])*(12+random.randint(10))\n",
    "    hash %= 10000\n",
    "    return hash"
   ]
  },
  {
   "cell_type": "markdown",
   "metadata": {},
   "source": [
    "#### Заполнение "
   ]
  },
  {
   "cell_type": "code",
   "execution_count": 197,
   "metadata": {},
   "outputs": [],
   "source": [
    "def Add(word,hashlist,words):\n",
    "    hash=GetHash(word)\n",
    "    \n",
    "    collision=False\n",
    "    count=1;\n",
    "    while hash in hashlist:\n",
    "        if method==1:\n",
    "            hash=SimpleRehash(word,count)\n",
    "            count+=1\n",
    "        elif method==2:\n",
    "            hash=RandomRehash(word)\n",
    "        elif method==3:\n",
    "            collision=True\n",
    "            \n",
    "    if collision==True:\n",
    "        for i in range(len(hashlist)):\n",
    "            if hash==hashlist[i]:\n",
    "                words[i]+=(\" \"+word)\n",
    "                break\n",
    "    else:\n",
    "        hashlist.append(hash)\n",
    "        words.append(word)"
   ]
  },
  {
   "cell_type": "code",
   "execution_count": 223,
   "metadata": {
    "scrolled": true
   },
   "outputs": [
    {
     "name": "stdout",
     "output_type": "stream",
     "text": [
      "Выберите метод рехеширования:\n",
      "1 - простое\n",
      "2 - рандомное\n",
      "3 - метод цепочек\n",
      "\n",
      "Выбранный способ: 1\n"
     ]
    }
   ],
   "source": [
    "print(\"Выберите метод рехеширования:\\n1 - простое\\n2 - рандомное\\n3 - метод цепочек\")\n",
    "method = int(input(\"\\nВыбранный способ: \"))"
   ]
  },
  {
   "cell_type": "code",
   "execution_count": 224,
   "metadata": {},
   "outputs": [],
   "source": [
    "hashlist = []\n",
    "words = []\n",
    "for i in range(len(words1)):\n",
    "    Add(words1[i],hashlist,words)"
   ]
  },
  {
   "cell_type": "markdown",
   "metadata": {},
   "source": [
    "#### Вывод "
   ]
  },
  {
   "cell_type": "code",
   "execution_count": 225,
   "metadata": {
    "scrolled": true
   },
   "outputs": [
    {
     "name": "stdout",
     "output_type": "stream",
     "text": [
      "\n",
      "\n",
      "1\t5104\tOolrJ\n",
      "2\t5872\tbj\n",
      "3\t736\twe\n",
      "4\t8640\tHi\n",
      "5\t2224\tHvWgjhW\n"
     ]
    }
   ],
   "source": [
    "def PrintTable():\n",
    "    print(\"\\n\")\n",
    "    for i in range(len(hashlist)):\n",
    "        print(str(i+1)+\"\\t\"+str(hashlist[i])+\"\\t\"+words[i])\n",
    "        \n",
    "PrintTable()"
   ]
  },
  {
   "cell_type": "markdown",
   "metadata": {},
   "source": [
    "#### Метод добавления"
   ]
  },
  {
   "cell_type": "code",
   "execution_count": 226,
   "metadata": {
    "scrolled": true
   },
   "outputs": [
    {
     "name": "stdout",
     "output_type": "stream",
     "text": [
      "Введите слово: as\n",
      "\n",
      "\n",
      "1\t5104\tOolrJ\n",
      "2\t5872\tbj\n",
      "3\t736\twe\n",
      "4\t8640\tHi\n",
      "5\t2224\tHvWgjhW\n",
      "6\t6320\tas\n"
     ]
    }
   ],
   "source": [
    "val = input(\"Введите слово: \")\n",
    "Add(val,hashlist,words)\n",
    "PrintTable()"
   ]
  },
  {
   "cell_type": "markdown",
   "metadata": {},
   "source": [
    "#### Метод поиска"
   ]
  },
  {
   "cell_type": "code",
   "execution_count": 227,
   "metadata": {
    "scrolled": true
   },
   "outputs": [
    {
     "name": "stdout",
     "output_type": "stream",
     "text": [
      "Введите элемент: as\n",
      "Найден под номером 6\n",
      "\n",
      "\n",
      "1\t5104\tOolrJ\n",
      "2\t5872\tbj\n",
      "3\t736\twe\n",
      "4\t8640\tHi\n",
      "5\t2224\tHvWgjhW\n",
      "6\t6320\tas\n"
     ]
    }
   ],
   "source": [
    "def Find(word):\n",
    "    hash=GetHash(word)\n",
    "    index=InterpolationSearch(hashlist, hash)\n",
    "    if index>0:\n",
    "        print(\"Найден под номером \"+str(index+1))\n",
    "    else:\n",
    "        print(\"Не найден\")\n",
    "\n",
    "val=input(\"Введите элемент: \")\n",
    "Find(val)\n",
    "PrintTable()"
   ]
  },
  {
   "cell_type": "markdown",
   "metadata": {},
   "source": [
    "#### Метод удаления"
   ]
  },
  {
   "cell_type": "code",
   "execution_count": 228,
   "metadata": {},
   "outputs": [
    {
     "name": "stdout",
     "output_type": "stream",
     "text": [
      "Введите элемент: as\n",
      "Элемент удален\n",
      "\n",
      "\n",
      "1\t5104\tOolrJ\n",
      "2\t5872\tbj\n",
      "3\t736\twe\n",
      "4\t8640\tHi\n",
      "5\t2224\tHvWgjhW\n"
     ]
    }
   ],
   "source": [
    "def Delete(word):\n",
    "    hash=GetHash(word)\n",
    "    if hash in hashlist:\n",
    "        hashlist.remove(hash)\n",
    "        words.remove(word)\n",
    "        print(\"Элемент удален\")\n",
    "    else:\n",
    "        print(\"Не найден\")\n",
    "        \n",
    "val=input(\"Введите элемент: \")\n",
    "Delete(val)\n",
    "PrintTable()"
   ]
  }
 ],
 "metadata": {
  "kernelspec": {
   "display_name": "Python 3",
   "language": "python",
   "name": "python3"
  },
  "language_info": {
   "codemirror_mode": {
    "name": "ipython",
    "version": 3
   },
   "file_extension": ".py",
   "mimetype": "text/x-python",
   "name": "python",
   "nbconvert_exporter": "python",
   "pygments_lexer": "ipython3",
   "version": "3.8.5"
  }
 },
 "nbformat": 4,
 "nbformat_minor": 4
}
