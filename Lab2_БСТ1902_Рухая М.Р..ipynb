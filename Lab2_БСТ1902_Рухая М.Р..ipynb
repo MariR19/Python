{
 "cells": [
  {
   "cell_type": "markdown",
   "metadata": {},
   "source": [
    "# Лабораторная работа №2\n",
    "## Выполнила студентка группы БСТ1902 Рухая М.Р."
   ]
  },
  {
   "cell_type": "markdown",
   "metadata": {},
   "source": [
    "### Задание №1\n",
    "Организовать генерацию начального набора случайных данных. Реализовать методы поиска в соответствии с заданием."
   ]
  },
  {
   "cell_type": "markdown",
   "metadata": {},
   "source": [
    "#### Генерация массива"
   ]
  },
  {
   "cell_type": "code",
   "execution_count": 4,
   "metadata": {
    "scrolled": true
   },
   "outputs": [
    {
     "name": "stdout",
     "output_type": "stream",
     "text": [
      "Исходный массив:\n",
      "\n",
      " [4, 13, 16, 23, 49, 60, 102, 120]\n"
     ]
    }
   ],
   "source": [
    "import random\n",
    "import numpy\n",
    "\n",
    "arr = []\n",
    "for i in range(8):\n",
    "    arr.append(random.randint(0,123))\n",
    "arr1=arr.copy()\n",
    "arr.sort()\n",
    "print('Исходный массив:\\n\\n',arr)"
   ]
  },
  {
   "cell_type": "markdown",
   "metadata": {},
   "source": [
    "#### Методы поиска:"
   ]
  },
  {
   "cell_type": "markdown",
   "metadata": {},
   "source": [
    "#### 1. Бинарный поиск"
   ]
  },
  {
   "cell_type": "code",
   "execution_count": 4,
   "metadata": {},
   "outputs": [],
   "source": [
    "def BinSearch(arr,x):\n",
    "    left = 0\n",
    "    right = len(arr)-1\n",
    "    mid = int(right/2)\n",
    "    while arr[mid] != x and left <= right:\n",
    "        if x > arr[mid]:\n",
    "            left = mid+1\n",
    "        else:\n",
    "            right = mid-1\n",
    "        mid = int((left+right)/2)\n",
    "    if left > right:\n",
    "        return -1\n",
    "    else:\n",
    "        return mid"
   ]
  },
  {
   "cell_type": "code",
   "execution_count": 19,
   "metadata": {},
   "outputs": [],
   "source": [
    "# Время\n",
    "#%%time\n",
    "#BinSearch(arr,11)"
   ]
  },
  {
   "cell_type": "code",
   "execution_count": 14,
   "metadata": {
    "scrolled": true
   },
   "outputs": [
    {
     "name": "stdout",
     "output_type": "stream",
     "text": [
      "Исходный массив:\n",
      "\n",
      " [11, 26, 33, 43, 58, 62, 78, 93]\n",
      "\n",
      "Введите элемент для поиска: 11\n",
      "\n",
      "Найден элемент с индексом:  0\n",
      "\n",
      "Вы хотите удалить данный элемент?\n",
      "\t1 - да, хочу\n",
      " \t2 - нет, не хочу\n",
      "\n",
      "Выбранный вариант: 1\n",
      "\n",
      "Новый массив:\n",
      "\n",
      " [26, 33, 43, 58, 62, 78, 93]\n"
     ]
    }
   ],
   "source": [
    "print('Исходный массив:\\n\\n',arr)\n",
    "x = int(input('\\nВведите элемент для поиска: '))\n",
    "a=BinSearch(arr,x)\n",
    "if a==-1:\n",
    "    print('\\nНе найден элемент')\n",
    "else:\n",
    "    print('\\nНайден элемент с индексом: ',a)\n",
    "    print('\\nВы хотите удалить данный элемент?')\n",
    "    print('\\t1 - да, хочу\\n \\t2 - нет, не хочу')\n",
    "    b=int(input('\\nВыбранный вариант: '))\n",
    "    if b==1:\n",
    "        del arr[a]\n",
    "        print('\\nНовый массив:\\n\\n',arr)"
   ]
  },
  {
   "cell_type": "markdown",
   "metadata": {},
   "source": [
    "#### 2. Бинарное дерево"
   ]
  },
  {
   "cell_type": "code",
   "execution_count": 164,
   "metadata": {},
   "outputs": [],
   "source": [
    "class BST:\n",
    "    \n",
    "    # Конструктар класса\n",
    "    def __init__(self, val=None):\n",
    "        self.left = None\n",
    "        self.right = None\n",
    "        self.val = val\n",
    "\n",
    "    # Метод для вывода\n",
    "    def __str__(self):\n",
    "        return \"[%s, %s, %s]\" % (self.left, str(self.val), self.right)\n",
    "\n",
    "    # Метод для проверки ячейки на пустоту\n",
    "    def isEmpty(self):\n",
    "        return self.left == self.right == self.val == None\n",
    "\n",
    "    # Метод вставки\n",
    "    def insert(self, val):\n",
    "        if self.isEmpty():\n",
    "            self.val = val\n",
    "        elif val < self.val:\n",
    "            if self.left is None:\n",
    "                self.left = BST(val)\n",
    "            else:\n",
    "                self.left.insert(val)\n",
    "        else:\n",
    "            if self.right is None:\n",
    "                self.right = BST(val)\n",
    "            else:\n",
    "                self.right.insert(val)\n",
    "                \n",
    "                \n",
    "    # Метод поиска\n",
    "    def findval(self, lkpval):\n",
    "        if lkpval < self.val:\n",
    "            if self.left is None:\n",
    "                return ('Элемент \\\"'+str(lkpval)+'\\\" не найден')\n",
    "            return self.left.findval(lkpval)\n",
    "        elif lkpval > self.val:\n",
    "            if self.right is None:\n",
    "                return ('Элемент \\\"'+str(lkpval)+'\\\" не найден')\n",
    "            return self.right.findval(lkpval)\n",
    "        else:\n",
    "            print('Элемент \\\"'+str(self.val)+'\\\" найден')"
   ]
  },
  {
   "cell_type": "code",
   "execution_count": 165,
   "metadata": {},
   "outputs": [
    {
     "name": "stdout",
     "output_type": "stream",
     "text": [
      "Бинарное дерево:  [[[None, 12, [None, 12, [[None, 50, None], 77, [None, 84, None]]]], 90, None], 116, [None, 119, None]]\n",
      "\n",
      "Введите элемент для поиска: 50\n",
      "Элемент \"50\" найден\n"
     ]
    }
   ],
   "source": [
    "a = BST(arr1[0])\n",
    "for i in range(1,len(arr1)):\n",
    "    a.insert(arr1[i])\n",
    "    \n",
    "print(\"Бинарное дерево: \",a)\n",
    "\n",
    "x = int(input('\\nВведите элемент для поиска: '))\n",
    "a.findval(x)"
   ]
  },
  {
   "cell_type": "markdown",
   "metadata": {},
   "source": [
    "#### 3. Фибоначчиев"
   ]
  },
  {
   "cell_type": "code",
   "execution_count": 16,
   "metadata": {},
   "outputs": [],
   "source": [
    "def FibonacciSearch(arr, x):\n",
    "    fibM_minus_2 = 0\n",
    "    fibM_minus_1 = 1\n",
    "    fibM = fibM_minus_1 + fibM_minus_2\n",
    "    while (fibM < len(arr)):\n",
    "        fibM_minus_2 = fibM_minus_1\n",
    "        fibM_minus_1 = fibM\n",
    "        fibM = fibM_minus_1 + fibM_minus_2\n",
    "    index = -1;\n",
    "    while (fibM > 1):\n",
    "        i = min(index + fibM_minus_2, (len(arr)-1))\n",
    "        if (arr[i] < x):\n",
    "            fibM = fibM_minus_1\n",
    "            fibM_minus_1 = fibM_minus_2\n",
    "            fibM_minus_2 = fibM - fibM_minus_1\n",
    "            index = i\n",
    "        elif (arr[i] > x):\n",
    "            fibM = fibM_minus_2\n",
    "            fibM_minus_1 = fibM_minus_1 - fibM_minus_2\n",
    "            fibM_minus_2 = fibM - fibM_minus_1\n",
    "        else :\n",
    "            return i\n",
    "    if(fibM_minus_1 and index < (len(arr)-1) and arr[index+1] == x):\n",
    "        return index+1;\n",
    "    return -1"
   ]
  },
  {
   "cell_type": "code",
   "execution_count": 167,
   "metadata": {},
   "outputs": [
    {
     "name": "stdout",
     "output_type": "stream",
     "text": [
      "Исходный массив:\n",
      "\n",
      " [12, 50, 77, 84, 90, 116, 119]\n",
      "\n",
      "Введите элемент для поиска: 116\n",
      "\n",
      "Найден элемент с индексом:  5\n",
      "\n",
      "Вы хотите удалить данный элемент?\n",
      "\t1 - да, хочу\n",
      " \t2 - нет, не хочу\n",
      "\n",
      "Выбранный вариант: 2\n"
     ]
    }
   ],
   "source": [
    "print('Исходный массив:\\n\\n',arr)\n",
    "x = int(input('\\nВведите элемент для поиска: '))\n",
    "a=FibonacciSearch(arr,x)\n",
    "if a==-1:\n",
    "    print('\\nНе найден элемент')\n",
    "else:\n",
    "    print('\\nНайден элемент с индексом: ',a)\n",
    "    print('\\nВы хотите удалить данный элемент?')\n",
    "    print('\\t1 - да, хочу\\n \\t2 - нет, не хочу')\n",
    "    b=int(input('\\nВыбранный вариант: '))\n",
    "    if b==1:\n",
    "        del arr[a]\n",
    "        print('\\nНовый массив:\\n\\n',arr)"
   ]
  },
  {
   "cell_type": "markdown",
   "metadata": {},
   "source": [
    "#### 4. Интерполяционный"
   ]
  },
  {
   "cell_type": "code",
   "execution_count": 168,
   "metadata": {},
   "outputs": [],
   "source": [
    "def InterpolationSearch(arr, x):\n",
    "    low = 0\n",
    "    high = (len(arr) - 1)\n",
    "    while low <= high and x >= arr[low] and x <= arr[high]:\n",
    "        index = low + int(((float(high - low) / ( arr[high] - arr[low])) * ( x - arr[low])))\n",
    "        if arr[index] == x:\n",
    "            return index\n",
    "        if arr[index] < x:\n",
    "            low = index + 1;\n",
    "        else:\n",
    "            high = index - 1;\n",
    "    return -1"
   ]
  },
  {
   "cell_type": "code",
   "execution_count": 169,
   "metadata": {
    "scrolled": false
   },
   "outputs": [
    {
     "name": "stdout",
     "output_type": "stream",
     "text": [
      "Исходный массив:\n",
      "\n",
      " [12, 50, 77, 84, 90, 116, 119]\n",
      "\n",
      "Введите элемент для поиска: 89\n",
      "\n",
      "Не найден элемент\n"
     ]
    }
   ],
   "source": [
    "print('Исходный массив:\\n\\n',arr)\n",
    "x = int(input('\\nВведите элемент для поиска: '))\n",
    "a=InterpolationSearch(arr,x)\n",
    "if a==-1:\n",
    "    print('\\nНе найден элемент')\n",
    "else:\n",
    "    print('\\nНайден элемент с индексом: ',a)\n",
    "    print('\\nВы хотите удалить данный элемент?')\n",
    "    print('\\t1 - да, хочу\\n \\t2 - нет, не хочу')\n",
    "    b=int(input('\\nВыбранный вариант: '))\n",
    "    if b==1:\n",
    "        del arr[a]\n",
    "        print('\\nНовый массив:\\n\\n',arr)"
   ]
  },
  {
   "cell_type": "markdown",
   "metadata": {},
   "source": [
    "### Задание №2\n"
   ]
  },
  {
   "cell_type": "markdown",
   "metadata": {},
   "source": [
    "#### Генерация слов"
   ]
  },
  {
   "cell_type": "code",
   "execution_count": 119,
   "metadata": {
    "scrolled": true
   },
   "outputs": [
    {
     "name": "stdout",
     "output_type": "stream",
     "text": [
      "Исходный список слов:\n",
      "\n",
      " ['byrCdrf', 'OT', 'tidlIIxRln', 'pVjIUga', 'JgBfLQ', 'qTxMW', 'Uvk', 'oOyGipO', 'eztjdjdPVE', 'OBpPAhURn', 'uKjlGwOFH', 'MNCUfaH', 'YaMMyOlURU', 'FcJCUjvl', 'uMhYZy']\n"
     ]
    }
   ],
   "source": [
    "import string\n",
    "import random\n",
    "\n",
    "words1 = []\n",
    "words1 = [\"\".join(random.choice(string.ascii_letters) for j in range(random.randint(2,10)) ) for i in range(random.randint(5,20)) ]\n",
    "\n",
    "print('Исходный список слов:\\n\\n',words1)"
   ]
  },
  {
   "cell_type": "markdown",
   "metadata": {},
   "source": [
    "#### Функция хеширования"
   ]
  },
  {
   "cell_type": "code",
   "execution_count": 138,
   "metadata": {},
   "outputs": [],
   "source": [
    "def GetHash(word):\n",
    "    hash = 1\n",
    "    for i in range(len(word)):\n",
    "        hash *= (ord(word[i])+127)*341\n",
    "    hash %= 1024\n",
    "    return hash"
   ]
  },
  {
   "cell_type": "markdown",
   "metadata": {},
   "source": [
    "#### Хеш-табица"
   ]
  },
  {
   "cell_type": "code",
   "execution_count": 139,
   "metadata": {},
   "outputs": [],
   "source": [
    "#Класс хеш-таблицы\n",
    "class HashTable:\n",
    "    def __init__(self):\n",
    "        self.__size = 1024\n",
    "        self.__table = []\n",
    "        for i in range(self.__size):\n",
    "            self.__table.append(None)\n",
    "\n",
    "    def add(self, key, value):\n",
    "        self.__table[key] = value\n",
    "\n",
    "    def delete(self, key):\n",
    "        self.__table[key] = None\n",
    "\n",
    "    def contains(self, key):\n",
    "        return self.__table[key] is not None\n",
    "\n",
    "    def get(self, key):\n",
    "        return self.__table[key]"
   ]
  },
  {
   "cell_type": "markdown",
   "metadata": {},
   "source": [
    "#### Функции рехеширования:"
   ]
  },
  {
   "cell_type": "markdown",
   "metadata": {},
   "source": [
    " #### 1. Простое рехеширование"
   ]
  },
  {
   "cell_type": "code",
   "execution_count": 140,
   "metadata": {},
   "outputs": [],
   "source": [
    "class SimpleRehash:\n",
    "    def __init__(self):\n",
    "        self.table=HashTable()\n",
    "        \n",
    "    def add(self,value):\n",
    "        hsh=GetHash(value)\n",
    "        if not self.table.contains(hsh):\n",
    "            self.table.add(hsh,value)\n",
    "        else:\n",
    "            self.rehash(hsh,value)\n",
    "            \n",
    "    def rehash(self,hsh,value):\n",
    "        while self.table.contains(hsh):\n",
    "            hsh+=1\n",
    "            if hsh>=1024:\n",
    "                hsh %=1024\n",
    "        self.table.add(hsh,value)\n",
    "        \n",
    "    def find(self,value):\n",
    "        for i in range(1024):\n",
    "            if self.table.get(i)==value:\n",
    "                return i\n",
    "        return -1\n",
    "    \n",
    "    def delete(self,value):\n",
    "        hsh=self.find(value)\n",
    "        if hsh>-1:\n",
    "            self.table.delete(hsh)\n",
    "        \n",
    "    def print_table(self):\n",
    "        for i in range(1024):\n",
    "            if self.table.get(i) is not None:\n",
    "                print(i,\"--\",self.table.get(i))"
   ]
  },
  {
   "cell_type": "markdown",
   "metadata": {},
   "source": [
    "#### 2. Рехеширование с помошью псевдослучайных чисел"
   ]
  },
  {
   "cell_type": "code",
   "execution_count": 141,
   "metadata": {},
   "outputs": [],
   "source": [
    "class RandomRehash:\n",
    "    def __init__(self):\n",
    "        self.table=HashTable()\n",
    "        \n",
    "    def add(self,value):\n",
    "        hsh=GetHash(value)\n",
    "        if not self.table.contains(hsh):\n",
    "            self.table.add(hsh,value)\n",
    "        else:\n",
    "            self.rehash(hsh,value)\n",
    "            \n",
    "    def rehash(self,hsh,value):\n",
    "        while self.table.contains(hsh):\n",
    "            hsh+=random.randint(0,100)\n",
    "            if hsh>=1024:\n",
    "                hsh %=1024\n",
    "        self.table.add(hsh,value)\n",
    "        \n",
    "    def find(self,value):\n",
    "        for i in range(1024):\n",
    "            if self.table.get(i)==value:\n",
    "                return i\n",
    "        return -1\n",
    "    \n",
    "    def delete(self,value):\n",
    "        hsh=self.find(value)\n",
    "        if hsh>-1:\n",
    "            self.table.delete(hsh)\n",
    "        \n",
    "    def print_table(self):\n",
    "        for i in range(1024):\n",
    "            if self.table.get(i) is not None:\n",
    "                print(i,\"--\",self.table.get(i))"
   ]
  },
  {
   "cell_type": "markdown",
   "metadata": {},
   "source": [
    "#### 3. Рехеширование с помощью метода цепочек"
   ]
  },
  {
   "cell_type": "code",
   "execution_count": 142,
   "metadata": {},
   "outputs": [],
   "source": [
    "#Хеш-таблица для метода цепочек\n",
    "class Chain:\n",
    "    def __init__(self):\n",
    "        self.size = 1024\n",
    "        self.table = []\n",
    "        for i in range(self.size):\n",
    "            self.table.append(None)\n",
    "\n",
    "    def _add(self,key,value):\n",
    "        if self.table[key] is None:\n",
    "            self.table[key]=Elem(value)\n",
    "        else:\n",
    "            self.table[key].add(value)\n",
    "\n",
    "    def _get(self,key):\n",
    "        if self.table[key] is None:\n",
    "            return None\n",
    "        else:\n",
    "            return self.table[key].get()\n",
    "\n",
    "    def _delete(self,key,value):\n",
    "        if self.table[key] is not None and self.table[key].contains(value):\n",
    "            temp=self.table[key].get()\n",
    "            if temp[0]==value:\n",
    "                self.table[key]=self.table[key].next\n",
    "            else:\n",
    "                self.table[key].delete(value)\n",
    "                \n",
    "    def _contains(self,key,value):\n",
    "        if self.table[key] is None:\n",
    "            return False\n",
    "        else:\n",
    "            return self.table[key].contains(value)\n",
    "\n",
    "\n",
    "class Elem:\n",
    "    def __init__(self,value):\n",
    "        self.value=value\n",
    "        self.next=None\n",
    "\n",
    "    def add(self,value):\n",
    "        if self.value!=value:\n",
    "            if self.next is None:\n",
    "                self.next=Elem(value)\n",
    "            else:\n",
    "                self.next.add(value)\n",
    "\n",
    "    def get(self):\n",
    "        if self.next is None:\n",
    "            arr=[self.value]\n",
    "            return arr\n",
    "        else:\n",
    "            arr=[self.value]\n",
    "            arr.extend(self.next.get())\n",
    "            return arr\n",
    "\n",
    "    def delete(self,value):\n",
    "        if self.next is not None:\n",
    "            if self.next.value==value:\n",
    "                self.next=self.next.next\n",
    "            else:\n",
    "                self.next.delete(value)\n",
    "\n",
    "    def contains(self,value):\n",
    "        if self.value==value:\n",
    "            return True\n",
    "        elif self.next is not None:\n",
    "            return self.next.contains(value)\n",
    "        else:\n",
    "            return False"
   ]
  },
  {
   "cell_type": "code",
   "execution_count": 143,
   "metadata": {},
   "outputs": [],
   "source": [
    "class ChainsRehash:\n",
    "    def __init__(self):\n",
    "        self.table=Chain()\n",
    "    \n",
    "    def add(self,value):\n",
    "        hsh=GetHash(value)\n",
    "        self.table._add(hsh,value)\n",
    "    \n",
    "    def delete(self,value):\n",
    "        hsh=GetHash(value)\n",
    "        self.table._delete(hsh,value)\n",
    "        \n",
    "    def find(self,value):\n",
    "        hsh=GetHash(value)\n",
    "        if self.table._contains(hsh,value):\n",
    "            return hsh\n",
    "        else:\n",
    "            return -1\n",
    "    \n",
    "    def print_table(self):\n",
    "        for i in range(1024):\n",
    "             if self.table._get(i) is not None:\n",
    "                print(i,\"--\",self.table._get(i))"
   ]
  },
  {
   "cell_type": "markdown",
   "metadata": {},
   "source": [
    "#### Проверка работы"
   ]
  },
  {
   "cell_type": "code",
   "execution_count": 144,
   "metadata": {},
   "outputs": [
    {
     "name": "stdout",
     "output_type": "stream",
     "text": [
      "\n",
      "Простое рехеширование\n",
      "0 -- pVjIUga\n",
      "1 -- oOyGipO\n",
      "2 -- MNCUfaH\n",
      "3 -- YaMMyOlURU\n",
      "4 -- uMhYZy\n",
      "32 -- JgBfLQ\n",
      "72 -- Uvk\n",
      "208 -- byrCdrf\n",
      "272 -- eztjdjdPVE\n",
      "506 -- OT\n",
      "512 -- tidlIIxRln\n",
      "513 -- OBpPAhURn\n",
      "704 -- uKjlGwOFH\n",
      "896 -- qTxMW\n",
      "1008 -- FcJCUjvl\n",
      "\n",
      "Рандомное рехеширование\n",
      "0 -- pVjIUga\n",
      "9 -- MNCUfaH\n",
      "32 -- JgBfLQ\n",
      "65 -- YaMMyOlURU\n",
      "72 -- Uvk\n",
      "75 -- oOyGipO\n",
      "82 -- uMhYZy\n",
      "208 -- byrCdrf\n",
      "272 -- eztjdjdPVE\n",
      "506 -- OT\n",
      "512 -- tidlIIxRln\n",
      "524 -- OBpPAhURn\n",
      "704 -- uKjlGwOFH\n",
      "896 -- qTxMW\n",
      "1008 -- FcJCUjvl\n",
      "\n",
      "Цепочки рехеширование\n",
      "0 -- ['pVjIUga', 'oOyGipO', 'MNCUfaH', 'YaMMyOlURU', 'uMhYZy']\n",
      "32 -- ['JgBfLQ']\n",
      "72 -- ['Uvk']\n",
      "208 -- ['byrCdrf']\n",
      "272 -- ['eztjdjdPVE']\n",
      "506 -- ['OT']\n",
      "512 -- ['tidlIIxRln', 'OBpPAhURn']\n",
      "704 -- ['uKjlGwOFH']\n",
      "896 -- ['qTxMW']\n",
      "1008 -- ['FcJCUjvl']\n"
     ]
    }
   ],
   "source": [
    "arr=words1.copy()\n",
    "simple=SimpleRehash()\n",
    "rand=RandomRehash()\n",
    "chains=ChainsRehash()\n",
    "\n",
    "for i in range(len(arr)):\n",
    "    simple.add(arr[i])\n",
    "    rand.add(arr[i])\n",
    "    chains.add(arr[i])\n",
    "\n",
    "print(\"\\nПростое рехеширование\")\n",
    "simple.print_table()\n",
    "\n",
    "print(\"\\nРандомное рехеширование\")\n",
    "rand.print_table()\n",
    "\n",
    "print(\"\\nЦепочки рехеширование\")\n",
    "chains.print_table()"
   ]
  },
  {
   "cell_type": "markdown",
   "metadata": {},
   "source": [
    "#### Удаление"
   ]
  },
  {
   "cell_type": "code",
   "execution_count": 145,
   "metadata": {},
   "outputs": [
    {
     "name": "stdout",
     "output_type": "stream",
     "text": [
      "\n",
      "Что удалить?\n",
      "byrCdr\n",
      "\n",
      "Простое рехеширование\n",
      "0 -- pVjIUga\n",
      "1 -- oOyGipO\n",
      "2 -- MNCUfaH\n",
      "3 -- YaMMyOlURU\n",
      "4 -- uMhYZy\n",
      "32 -- JgBfLQ\n",
      "72 -- Uvk\n",
      "208 -- byrCdrf\n",
      "272 -- eztjdjdPVE\n",
      "506 -- OT\n",
      "512 -- tidlIIxRln\n",
      "513 -- OBpPAhURn\n",
      "704 -- uKjlGwOFH\n",
      "896 -- qTxMW\n",
      "1008 -- FcJCUjvl\n",
      "\n",
      "Рандомное рехеширование\n",
      "0 -- pVjIUga\n",
      "9 -- MNCUfaH\n",
      "32 -- JgBfLQ\n",
      "65 -- YaMMyOlURU\n",
      "72 -- Uvk\n",
      "75 -- oOyGipO\n",
      "82 -- uMhYZy\n",
      "208 -- byrCdrf\n",
      "272 -- eztjdjdPVE\n",
      "506 -- OT\n",
      "512 -- tidlIIxRln\n",
      "524 -- OBpPAhURn\n",
      "704 -- uKjlGwOFH\n",
      "896 -- qTxMW\n",
      "1008 -- FcJCUjvl\n",
      "\n",
      "Цепочки рехеширование\n",
      "0 -- ['pVjIUga', 'oOyGipO', 'MNCUfaH', 'YaMMyOlURU', 'uMhYZy']\n",
      "32 -- ['JgBfLQ']\n",
      "72 -- ['Uvk']\n",
      "208 -- ['byrCdrf']\n",
      "272 -- ['eztjdjdPVE']\n",
      "506 -- ['OT']\n",
      "512 -- ['tidlIIxRln', 'OBpPAhURn']\n",
      "704 -- ['uKjlGwOFH']\n",
      "896 -- ['qTxMW']\n",
      "1008 -- ['FcJCUjvl']\n"
     ]
    }
   ],
   "source": [
    "x=input(\"\\nЧто удалить?\\n\")\n",
    "\n",
    "simple.delete(x)\n",
    "rand.delete(x)\n",
    "chains.delete(x)\n",
    "\n",
    "print(\"\\nПростое рехеширование\")\n",
    "simple.print_table()\n",
    "\n",
    "print(\"\\nРандомное рехеширование\")\n",
    "rand.print_table()\n",
    "\n",
    "print(\"\\nЦепочки рехеширование\")\n",
    "chains.print_table()"
   ]
  },
  {
   "cell_type": "markdown",
   "metadata": {},
   "source": [
    "#### Поиск"
   ]
  },
  {
   "cell_type": "code",
   "execution_count": 146,
   "metadata": {},
   "outputs": [
    {
     "name": "stdout",
     "output_type": "stream",
     "text": [
      "\n",
      "Что найти?\n",
      "OT\n",
      "\n",
      "\n",
      "506\n",
      "506\n",
      "506\n"
     ]
    }
   ],
   "source": [
    "x=input(\"\\nЧто найти?\\n\")\n",
    "print(\"\\n\")\n",
    "print(simple.find(x))\n",
    "print(rand.find(x))\n",
    "print(chains.find(x))"
   ]
  },
  {
   "cell_type": "markdown",
   "metadata": {},
   "source": [
    "#### Добавление"
   ]
  },
  {
   "cell_type": "code",
   "execution_count": 147,
   "metadata": {},
   "outputs": [
    {
     "name": "stdout",
     "output_type": "stream",
     "text": [
      "\n",
      "Что добавить?\n",
      "hi\n",
      "\n",
      "\n",
      "\n",
      "Простое рехеширование\n",
      "0 -- pVjIUga\n",
      "1 -- oOyGipO\n",
      "2 -- MNCUfaH\n",
      "3 -- YaMMyOlURU\n",
      "4 -- uMhYZy\n",
      "32 -- JgBfLQ\n",
      "72 -- Uvk\n",
      "152 -- hi\n",
      "208 -- byrCdrf\n",
      "272 -- eztjdjdPVE\n",
      "506 -- OT\n",
      "512 -- tidlIIxRln\n",
      "513 -- OBpPAhURn\n",
      "704 -- uKjlGwOFH\n",
      "896 -- qTxMW\n",
      "1008 -- FcJCUjvl\n",
      "\n",
      "Рандомное рехеширование\n",
      "0 -- pVjIUga\n",
      "9 -- MNCUfaH\n",
      "32 -- JgBfLQ\n",
      "65 -- YaMMyOlURU\n",
      "72 -- Uvk\n",
      "75 -- oOyGipO\n",
      "82 -- uMhYZy\n",
      "152 -- hi\n",
      "208 -- byrCdrf\n",
      "272 -- eztjdjdPVE\n",
      "506 -- OT\n",
      "512 -- tidlIIxRln\n",
      "524 -- OBpPAhURn\n",
      "704 -- uKjlGwOFH\n",
      "896 -- qTxMW\n",
      "1008 -- FcJCUjvl\n",
      "\n",
      "Цепочки рехеширование\n",
      "0 -- ['pVjIUga', 'oOyGipO', 'MNCUfaH', 'YaMMyOlURU', 'uMhYZy']\n",
      "32 -- ['JgBfLQ']\n",
      "72 -- ['Uvk']\n",
      "152 -- ['hi']\n",
      "208 -- ['byrCdrf']\n",
      "272 -- ['eztjdjdPVE']\n",
      "506 -- ['OT']\n",
      "512 -- ['tidlIIxRln', 'OBpPAhURn']\n",
      "704 -- ['uKjlGwOFH']\n",
      "896 -- ['qTxMW']\n",
      "1008 -- ['FcJCUjvl']\n"
     ]
    }
   ],
   "source": [
    "x=input(\"\\nЧто добавить?\\n\")\n",
    "print(\"\\n\")\n",
    "\n",
    "simple.add(x)\n",
    "rand.add(x)\n",
    "chains.add(x)\n",
    "\n",
    "print(\"\\nПростое рехеширование\")\n",
    "simple.print_table()\n",
    "\n",
    "print(\"\\nРандомное рехеширование\")\n",
    "rand.print_table()\n",
    "\n",
    "print(\"\\nЦепочки рехеширование\")\n",
    "chains.print_table()"
   ]
  },
  {
   "cell_type": "markdown",
   "metadata": {},
   "source": [
    "### Задание №3"
   ]
  },
  {
   "cell_type": "markdown",
   "metadata": {},
   "source": [
    "#### Шахматы"
   ]
  },
  {
   "cell_type": "code",
   "execution_count": 148,
   "metadata": {},
   "outputs": [],
   "source": [
    "class Chess:\n",
    "\n",
    "    #Конструктор с полями\n",
    "    def __init__(self, side_size, max_figures):\n",
    "        self.side_size=side_size\n",
    "        self.field_size=side_size**2\n",
    "        self.max_figures=max_figures\n",
    "        self.cells=[]\n",
    "        self.bad=[]\n",
    "        self.on_board=[]\n",
    "        self.figures_count=0\n",
    "\n",
    "        self.FIGURE=0\n",
    "        self.OPEN=1\n",
    "        self.CLOSE=2\n",
    "\n",
    "        for i in range(self.field_size):\n",
    "            self.cells.append(self.OPEN)\n",
    "\n",
    "    #Диагональ слева-направо сверху-вниз\n",
    "    def change_left_diagonal(self, start_cell, status):\n",
    "        cur_cell=start_cell\n",
    "        next_cell=cur_cell-(self.side_size+1)\n",
    "\n",
    "        cur_col=cur_cell%self.side_size\n",
    "        next_col=next_cell%self.side_size\n",
    "\n",
    "        #Подъем вверх\n",
    "        while cur_cell>0 and next_col==cur_col-1:\n",
    "            cur_cell=next_cell\n",
    "            next_cell=cur_cell-(self.side_size-1)\n",
    "\n",
    "            cur_col=next_col\n",
    "            next_col=next_cell%self.side_size\n",
    "\n",
    "        next_cell=cur_cell+(self.side_size+1)\n",
    "\n",
    "        cur_col=cur_cell%self.side_size\n",
    "        next_col=next_cell%self.side_size\n",
    "\n",
    "        #Спуск вниз и смена\n",
    "        while cur_cell<self.field_size and next_col==cur_col+1:\n",
    "            if self.cells[cur_cell]!=self.FIGURE:\n",
    "                self.cells[cur_cell]=status\n",
    "\n",
    "            cur_cell = next_cell\n",
    "            next_cell = cur_cell + (self.side_size + 1)\n",
    "\n",
    "            cur_col = next_col\n",
    "            next_col = next_cell % self.side_size\n",
    "\n",
    "        #Проверка и закрытие последнего элемента\n",
    "        if cur_cell<self.field_size and cur_cell%self.side_size==7 and self.cells[cur_cell]!=self.FIGURE:\n",
    "            self.cells[cur_cell]=status\n",
    "\n",
    "    #Диагональ справа-налево сверху-вниз\n",
    "    def change_right_diagonal(self, start_cell, status):\n",
    "        cur_cell = start_cell\n",
    "        next_cell = cur_cell - (self.side_size - 1)\n",
    "\n",
    "        cur_col = cur_cell % self.side_size\n",
    "        next_col = next_cell % self.side_size\n",
    "\n",
    "        # Подъем вверх\n",
    "        while cur_cell > 0 and next_col == cur_col + 1:\n",
    "            cur_cell = next_cell\n",
    "            next_cell = cur_cell - (self.side_size - 1)\n",
    "\n",
    "            cur_col = next_col\n",
    "            next_col = next_cell % self.side_size\n",
    "\n",
    "        next_cell = cur_cell + (self.side_size - 1)\n",
    "\n",
    "        cur_col = cur_cell % self.side_size\n",
    "        next_col = next_cell % self.side_size\n",
    "\n",
    "        # Спуск вниз и смена\n",
    "        while cur_cell < self.field_size and next_col == cur_col - 1:\n",
    "\n",
    "            if self.cells[cur_cell] != self.FIGURE:\n",
    "                self.cells[cur_cell] = status\n",
    "\n",
    "            cur_cell = next_cell\n",
    "            next_cell = cur_cell + (self.side_size - 1)\n",
    "\n",
    "            cur_col = next_col\n",
    "            next_col = next_cell % self.side_size\n",
    "\n",
    "        # Проверка и закрытие последнего элемента\n",
    "        if cur_cell < self.field_size and cur_cell % self.side_size == 0 and self.cells[cur_cell] != self.FIGURE:\n",
    "            self.cells[cur_cell] = status\n",
    "\n",
    "    #По вертикали сверху-вниз\n",
    "    def change_vertical(self, start_cell, status):\n",
    "        cur_cell=start_cell\n",
    "\n",
    "        #Поднимаемся вверх до конца\n",
    "        while cur_cell>0:\n",
    "            cur_cell-=self.side_size\n",
    "\n",
    "        #Спускаемся вниз на один, так как переборщили\n",
    "        if cur_cell!=0:\n",
    "            cur_cell+=self.side_size\n",
    "\n",
    "        #Спускаемся вниз до конца и меняем ячейки\n",
    "        while cur_cell<self.field_size:\n",
    "            if self.cells[cur_cell] != self.FIGURE:\n",
    "                self.cells[cur_cell] = status\n",
    "            cur_cell+=self.side_size\n",
    "\n",
    "    #По горизонтали справа-налево\n",
    "    def change_horizontal(self, start_cell, status):\n",
    "        cur_cell=start_cell\n",
    "        row=start_cell//self.side_size\n",
    "\n",
    "        while cur_cell//self.side_size==row and cur_cell>0:\n",
    "            cur_cell-=1\n",
    "\n",
    "        cur_cell+=1\n",
    "\n",
    "        while cur_cell//self.side_size==row and cur_cell<self.field_size:\n",
    "            if self.cells[cur_cell] != self.FIGURE:\n",
    "                self.cells[cur_cell] = status\n",
    "            cur_cell +=1\n",
    "\n",
    "    #Открыть ячейки во всех направлениях, начиная с данной\n",
    "    def open_cells(self, index):\n",
    "        self.change_horizontal(index,self.OPEN)\n",
    "        self.change_vertical(index,self.OPEN)\n",
    "        self.change_left_diagonal(index,self.OPEN)\n",
    "        self.change_right_diagonal(index,self.OPEN)\n",
    "\n",
    "    #Закрыть ячейки во всех направлениях, начиная с данной\n",
    "    def close_cells(self, index):\n",
    "        self.change_horizontal(index, self.CLOSE)\n",
    "        self.change_vertical(index, self.CLOSE)\n",
    "        self.change_left_diagonal(index, self.CLOSE)\n",
    "        self.change_right_diagonal(index, self.CLOSE)\n",
    "\n",
    "    #Поставить одну фигуру на данную ячейку и закрыть все нужные ячейки\n",
    "    def put_figure(self, index):\n",
    "        self.cells[index]=self.FIGURE\n",
    "        self.figures_count+=1\n",
    "        self.on_board.append(index)\n",
    "        self.close_cells(index)\n",
    "\n",
    "    #Проверям, делали ли мы уже такой ход\n",
    "    def can_put(self, index):\n",
    "        #Создаем массив, в который запишем комбинацию, которую проверям\n",
    "        combination=self.on_board.copy()\n",
    "\n",
    "        #Добавляем в массив элемент, который отправили\n",
    "        combination.append(index)\n",
    "\n",
    "        #Проверяем на наличие полученной комбинации в наборе плохих комбинаций\n",
    "        return combination not in self.bad\n",
    "\n",
    "    #Получить следующую свободную ячейку (после последней фигуры на доске)\n",
    "    def available_cell(self):\n",
    "        #Получаем количество фигур на доске\n",
    "        count=len(self.on_board)-1\n",
    "\n",
    "        #Если фигур нет, будем начинать искать свободные ячейки с нуля, иначе начинаем от последней поставленной фигуры\n",
    "        if count<0:\n",
    "            index=0\n",
    "        else:\n",
    "            index=self.on_board[count]\n",
    "\n",
    "        #Перебираем ячейки в поисках свободной и возвращаем ее\n",
    "        while index<self.field_size:\n",
    "            if self.cells[index]==self.OPEN and self.can_put(index):\n",
    "                return index\n",
    "            index+=1\n",
    "\n",
    "        #Если свободной нет, возвращаем -1\n",
    "        return -1\n",
    "\n",
    "    #Возвращаемся на одну фигуру назад и запоминаем плохую комбинацию (Если возвращаться некуда, возвращает False)\n",
    "    def go_back(self):\n",
    "        #Запоминаем текущую комбинацию как плохую\n",
    "        self.bad.append(self.on_board.copy())\n",
    "\n",
    "        #Проверяем можно ли вернуться назад\n",
    "        if self.figures_count==1 and self.on_board[0]==self.max_figures-1:\n",
    "            return False\n",
    "        #Если можно, то возвращаемся\n",
    "        else:\n",
    "            #Открываем все ячейки\n",
    "            for i in self.on_board:\n",
    "                self.open_cells(i)\n",
    "\n",
    "            #Убираем последнюю фигуру с поля\n",
    "            last_figure=self.on_board[len(self.on_board)-1]\n",
    "\n",
    "            self.cells[last_figure]=self.OPEN\n",
    "            self.on_board.remove(last_figure)\n",
    "            self.figures_count-=1\n",
    "\n",
    "            #Закрываем все нужные ячейки\n",
    "            for i in self.on_board:\n",
    "                self.close_cells(i)\n",
    "\n",
    "            return True\n",
    "\n",
    "    #Расстановка фигур\n",
    "    def iteration(self):\n",
    "        #Все еще можно перебирать\n",
    "        still_can_put=True\n",
    "\n",
    "        #Перебор пока не достигнем нужного количества фигур\n",
    "        while self.figures_count<self.max_figures and still_can_put:\n",
    "\n",
    "            #Получаем следующую свободную ячейку (-1, если таких нет)\n",
    "            index=self.available_cell()\n",
    "            #print(self.on_board)\n",
    "\n",
    "            #Если свободная ячейка найдена, ставим туда фигуру, иначе пробуем вернуться назад\n",
    "            if index>=0:\n",
    "                self.put_figure(index)\n",
    "            else:\n",
    "                still_can_put=self.go_back()\n",
    "\n",
    "        #Проверяем, выполнилось ли условие\n",
    "        if self.figures_count==self.max_figures:\n",
    "            self.print_board()\n",
    "            print(self.on_board)\n",
    "            print(\"Успешно\")\n",
    "        else:\n",
    "            print(\"Не вышло\")\n",
    "\n",
    "    #Вывести игровую доску на экран\n",
    "    def print_board(self):\n",
    "        for i in range(self.field_size):\n",
    "            if i%self.side_size==0:\n",
    "                print(\"\\n\")\n",
    "\n",
    "            if self.cells[i]==self.OPEN:\n",
    "                print(\"1 \", end='')\n",
    "            elif self.cells[i]==self.CLOSE:\n",
    "                print(\"X \", end='')\n",
    "            elif self.cells[i]==self.FIGURE:\n",
    "                print(\"0 \", end='')\n",
    "\n",
    "        print(\"\\n\")\n",
    "\n"
   ]
  },
  {
   "cell_type": "code",
   "execution_count": 149,
   "metadata": {},
   "outputs": [
    {
     "name": "stdout",
     "output_type": "stream",
     "text": [
      "\n",
      "\n",
      "0 X X X X X X X \n",
      "\n",
      "X X X X 0 X X X \n",
      "\n",
      "X X X X X X X 0 \n",
      "\n",
      "X X X X X 0 X X \n",
      "\n",
      "X X 0 X X X X X \n",
      "\n",
      "X X X X X X 0 X \n",
      "\n",
      "X 0 X X X X X X \n",
      "\n",
      "X X X 0 X X X X \n",
      "\n",
      "[0, 12, 23, 29, 34, 46, 49, 59]\n",
      "Успешно\n"
     ]
    }
   ],
   "source": [
    "chs=Chess(8,8)\n",
    "chs.iteration()"
   ]
  },
  {
   "cell_type": "markdown",
   "metadata": {},
   "source": [
    "### Вывод"
   ]
  },
  {
   "cell_type": "markdown",
   "metadata": {},
   "source": [
    "##### В ходе работы выполнили следующее:\n",
    "##### - Реализовали методы поиска в соответствии с заданием; \n",
    "##### - Организовали генерацию начального набора случайных данных;\n",
    "##### - Для всех вариантов добавили реализацию добавления, поиска и удаления элементов;\n",
    "##### - Реализовали хеш-таблицы и способы решения коллизий;\n",
    "##### - Написали программу, которая находит хотя бы один способ расстановки 8 ферзей на стандартной 64-клеточной шахматной доске, так чтобы ни один из них не находился под боем другого."
   ]
  },
  {
   "cell_type": "code",
   "execution_count": null,
   "metadata": {},
   "outputs": [],
   "source": []
  }
 ],
 "metadata": {
  "kernelspec": {
   "display_name": "Python 3",
   "language": "python",
   "name": "python3"
  },
  "language_info": {
   "codemirror_mode": {
    "name": "ipython",
    "version": 3
   },
   "file_extension": ".py",
   "mimetype": "text/x-python",
   "name": "python",
   "nbconvert_exporter": "python",
   "pygments_lexer": "ipython3",
   "version": "3.8.5"
  }
 },
 "nbformat": 4,
 "nbformat_minor": 4
}
