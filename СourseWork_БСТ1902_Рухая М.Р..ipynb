{
 "cells": [
  {
   "cell_type": "markdown",
   "metadata": {},
   "source": [
    "# Курсовая работа по дисциплине СиАОД\n",
    "## Выполнила студентка группы БСТ1902 Рухая М.Р."
   ]
  },
  {
   "cell_type": "markdown",
   "metadata": {},
   "source": [
    "### Библиотеки"
   ]
  },
  {
   "cell_type": "code",
   "execution_count": 100,
   "metadata": {},
   "outputs": [],
   "source": [
    "import random\n",
    "import math"
   ]
  },
  {
   "cell_type": "markdown",
   "metadata": {},
   "source": [
    "### Задача 1. «Шарики и стрелы»\n",
    "Некоторые сферические шарики распределены по двухмерному пространству. Для каждого шарика даны x-координаты начала и конца его горизонтального диаметра. Так как пространство двумерно, то y-координаты не имеют значения в данной задаче. Координата Xstart всегда меньше Xend.\n",
    "Стрелу можно выстрелить строго вертикально (вдоль y-оси) из разных точек x-оси. Шарик с координатами Xstart и Xend уничтожается стрелой, если она была выпущена из такой позиции x, что Xstart ⩽ x ⩽ Xend. Когда стрела выпущена, она летит в пространстве бесконечное время (уничтожая все шарики на пути).\n",
    "Дан массив points, где points[i] = [Xstart, Xend]. Напишите функцию, возвращающую минимальное количество стрел, которые нужно выпустить, чтобы уничтожить все шарики."
   ]
  },
  {
   "cell_type": "code",
   "execution_count": 8,
   "metadata": {},
   "outputs": [],
   "source": [
    "class Exercise1:\n",
    "    # Генерация массива\n",
    "    def generate_arrG(self,size):\n",
    "        arrG = []\n",
    "        for i in range(size):\n",
    "            arrG.append(random.randint(0, 1000))\n",
    "\n",
    "        arrG.sort()\n",
    "        return arrG\n",
    "\n",
    "    # Сортировка массива\n",
    "    def sort_arrS(self,arrG):\n",
    "        for i in range(len(arrG) - 1):\n",
    "            min_Xstart = arrG[i][0]\n",
    "            min_index = i\n",
    "            for j in range(i + 1, len(arrG)):\n",
    "                if min_Xstart > arrG[j][0]:\n",
    "                    min_index = j\n",
    "                    min_Xstart = arrG[j][0]\n",
    "\n",
    "            if not min_index==i:\n",
    "                arrG[min_index],arrG[i]=arrG[i],arrG[min_index]\n",
    "                \n",
    "                \n",
    "    # Функция задания            \n",
    "    def exercise_1(self):\n",
    "        # Для ввода массива:\n",
    "        # points = [[10,16],[2,8],[1,6],[7,12]]\n",
    "        # Для генерации массива:\n",
    "        points=[]\n",
    "        size = 8\n",
    "        for i in range(size):\n",
    "            points.append(self.generate_arrG(2))\n",
    "\n",
    "        self.sort_arrS(points)\n",
    "        print(\"Массив: points =\", points)\n",
    "\n",
    "        shots=0\n",
    "\n",
    "        while len(points)>0:           \n",
    "            k_index=0\n",
    "            i = 1\n",
    "            while i<len(points) and points[i - 1][1]>=points[i][0] and points[0][1]>=points[i][0]:\n",
    "                i+=1\n",
    "                k_index+=1\n",
    "\n",
    "            while k_index>=0:\n",
    "                del points[k_index]\n",
    "                k_index-=1\n",
    "\n",
    "            shots+=1\n",
    "            \n",
    "        print(\"\\nКоличество выстрелов: \",shots)"
   ]
  },
  {
   "cell_type": "code",
   "execution_count": 9,
   "metadata": {},
   "outputs": [
    {
     "name": "stdout",
     "output_type": "stream",
     "text": [
      "Массив: points = [[108, 320], [118, 356], [224, 734], [324, 868], [404, 792], [647, 857], [759, 777], [899, 976]]\n",
      "\n",
      "Количество выстрелов:  3\n"
     ]
    }
   ],
   "source": [
    "exercise1=Exercise1()\n",
    "exercise1.exercise_1()"
   ]
  },
  {
   "cell_type": "markdown",
   "metadata": {},
   "source": [
    "### Задача 2. «Треугольник с максимальным периметром»\n",
    "Массив A состоит из целых положительных чисел - длин отрезков. Составьте из трех отрезков такой треугольник, чтобы его периметр был максимально возможным. Если невозможно составить треугольник с положительной площадью - функция возвращает 0."
   ]
  },
  {
   "cell_type": "code",
   "execution_count": 90,
   "metadata": {},
   "outputs": [],
   "source": [
    "class Exercise2:\n",
    "    # Генерация массива\n",
    "    def generate_arr(self,size):\n",
    "        if size<3: size=3\n",
    "        elif size>10000: size=10000\n",
    "        arr=[]\n",
    "        for i in range(size):\n",
    "            arr.append(random.randint(1,10**6))\n",
    "        return arr\n",
    "\n",
    "    # Расчет периметра\n",
    "    def triangle_P(self,a,b,c):\n",
    "        P=a+b+c\n",
    "        return P\n",
    "\n",
    "    # Расчет площади\n",
    "    def triangle_S(self,a,b,c,P):\n",
    "        p=P/2\n",
    "        temp_S=p*(p-a)*(p-b)*(p-c) \n",
    "        if temp_S>0:\n",
    "            S=math.sqrt(temp_S)\n",
    "            return S\n",
    "        else:\n",
    "            return 0\n",
    "    \n",
    "    \n",
    "    # Функция задания  \n",
    "    def exercise_2(self):\n",
    "        # Для ввода массива:\n",
    "        # arr=[1,2,1]\n",
    "        # Для генерации массива:\n",
    "        arr=self.generate_arr(10)\n",
    "        arr.sort(reverse=True)\n",
    "\n",
    "        s=0\n",
    "        i=0\n",
    "        while(s==0 and i<len(arr)-2):\n",
    "            p=self.triangle_P(arr[i],arr[i+1],arr[i+2])\n",
    "            s=self.triangle_S(arr[i],arr[i+1],arr[i+2],p)\n",
    "            i+=1\n",
    "\n",
    "        i-=1\n",
    "\n",
    "        print('Исходный массив: A =',arr)\n",
    "        print('\\nСтороны треугольника:', arr[i], arr[i+1], arr[i+2])\n",
    "        print ('\\nМаксимальный периметр: P =',p)"
   ]
  },
  {
   "cell_type": "code",
   "execution_count": 91,
   "metadata": {},
   "outputs": [
    {
     "name": "stdout",
     "output_type": "stream",
     "text": [
      "Исходный массив: A = [998151, 958148, 632349, 616129, 456772, 371724, 254003, 249593, 143092, 86756]\n",
      "\n",
      "Стороны треугольника: 998151 958148 632349\n",
      "\n",
      "Максимальный периметр: P = 2588648\n"
     ]
    }
   ],
   "source": [
    "exercise2=Exercise2()\n",
    "exercise2.exercise_2()"
   ]
  },
  {
   "cell_type": "markdown",
   "metadata": {},
   "source": [
    "### Задача 3. «Максимальное число»\n",
    "Дан массив неотрицательных целых чисел nums. Расположите их в таком порядке, чтобы вместе они образовали максимально возможное число."
   ]
  },
  {
   "cell_type": "code",
   "execution_count": 92,
   "metadata": {},
   "outputs": [],
   "source": [
    "class Exercise3:\n",
    "    # Генерация массива\n",
    "    def generate_arr(self,size):\n",
    "        if size<1: size=1\n",
    "        elif size>100: size=100\n",
    "        arr=[]\n",
    "        for i in range(size):\n",
    "            arr.append(random.randint(0,10**9))\n",
    "        return arr\n",
    "    \n",
    "    # Функция возвращает true, если первое число больше второго\n",
    "    def value1_bigger(self,int_val1, int_val2):\n",
    "        val1=str(int_val1)\n",
    "        val2=str(int_val2)\n",
    "        if int(val1+val2)>int(val2+val1):\n",
    "            return True\n",
    "        else:\n",
    "            return False\n",
    "    \n",
    "    \n",
    "    # Функция задания \n",
    "    def exercise_3(self):\n",
    "        # Для ввода массива:\n",
    "        arr=[830,8308,8308]\n",
    "        # Для генерации массива:\n",
    "        # arr=self.generate_arr(10)\n",
    "        print('Исходный массив:\\n\\n A =',arr)\n",
    "\n",
    "        max_val=\"\"\n",
    "\n",
    "        for i in range(len(arr)-1):\n",
    "            max_elem=arr[i]\n",
    "            max_index=i\n",
    "\n",
    "            for j in range(i+1, len(arr)):\n",
    "                if self.value1_bigger(arr[j],max_elem):\n",
    "                    max_elem=arr[j]\n",
    "                    max_index=j\n",
    "\n",
    "            arr[max_index],arr[i]=arr[i],arr[max_index]\n",
    "\n",
    "        for i in range(len(arr)):\n",
    "            max_val+=str(arr[i])\n",
    "\n",
    "        print(\"\\nОтсортированный массив:\\n\\n A =\",arr)\n",
    "        print(\"\\nМаксимально возможное число: \",max_val)"
   ]
  },
  {
   "cell_type": "code",
   "execution_count": 93,
   "metadata": {},
   "outputs": [
    {
     "name": "stdout",
     "output_type": "stream",
     "text": [
      "Исходный массив:\n",
      "\n",
      " A = [830, 8308, 8308]\n",
      "\n",
      "Отсортированный массив:\n",
      "\n",
      " A = [8308, 8308, 830]\n",
      "\n",
      "Максимально возможное число:  83088308830\n"
     ]
    }
   ],
   "source": [
    "exercise3=Exercise3()\n",
    "exercise3.exercise_3()"
   ]
  },
  {
   "cell_type": "markdown",
   "metadata": {},
   "source": [
    "### Задача 4. «Сортировка диагоналей в матрице»\n",
    "Дана матрица mat размером m * n, значения - целочисленные. Напишите функцию, сортирующую каждую диагональ матрицы по возрастанию и возвращающую получившуюся матрицу."
   ]
  },
  {
   "cell_type": "code",
   "execution_count": 19,
   "metadata": {},
   "outputs": [],
   "source": [
    "class Exercise4:\n",
    "    # Генерация массива для матрицы\n",
    "    def generate_arr(self, size):\n",
    "        if size<1: size=1\n",
    "        elif size>100: size=100\n",
    "        arr = []\n",
    "        for i in range(size):\n",
    "            arr.append(random.randint(1,100))\n",
    "        return arr\n",
    "\n",
    "    # Вывод матрицы в столбик\n",
    "    def print_mat(self, mat):\n",
    "        for i in range(len(mat)):\n",
    "            print(mat[i], \"\")\n",
    "            \n",
    "    # Берет числа из диагонали\n",
    "    def take_nums(self, mat, row, col):\n",
    "        temp = []\n",
    "        while row < len(mat) and col < len(mat[0]):\n",
    "            temp.append(mat[row][col])\n",
    "            row += 1\n",
    "            col += 1\n",
    "        return temp\n",
    "\n",
    "    # Вставляет числа в диагональ\n",
    "    def insert_nums(self, mat, row, col, temp):\n",
    "        i = 0\n",
    "        while row < len(mat) and col < len(mat[0]) and i < len(temp):\n",
    "            mat[row][col]=temp[i]\n",
    "            row += 1\n",
    "            col += 1\n",
    "            i += 1\n",
    "            \n",
    "    \n",
    "    # Функция задания \n",
    "    def exercise_4(self):\n",
    "        # Для ввода массива:\n",
    "        # mat=[[11, 25, 66, 10, 69, 70], [23, 55, 17, 45, 15, 52], [75, 31, 36, 44, 58, 80], [22, 27, 33, 25, 68, 40], [84, 28, 14, 11, 50, 50]]\n",
    "        # Для генерации массива:\n",
    "        mat = []\n",
    "        m = 4  # строки row\n",
    "        n = 5  # столбцы col\n",
    "        for i in range(m):\n",
    "            mat.append(self.generate_arr(n))\n",
    "\n",
    "        print(\"Исходная матрица:\\n\")\n",
    "        self.print_mat(mat)\n",
    "\n",
    "        # Часть по строчкам\n",
    "        for i in range(m-1):\n",
    "            temp = self.take_nums(mat, i, 0)\n",
    "            temp.sort()\n",
    "            self.insert_nums(mat, i, 0, temp)\n",
    "\n",
    "        # Часть по столбцам\n",
    "        for i in range(1,n-1):\n",
    "            temp = self.take_nums(mat, 0, i)\n",
    "            temp.sort()\n",
    "            self.insert_nums(mat, 0, i, temp)\n",
    "\n",
    "        print(\"\\n\\nОтсортированная матрица:\\n\")\n",
    "        self.print_mat(mat)"
   ]
  },
  {
   "cell_type": "code",
   "execution_count": 26,
   "metadata": {},
   "outputs": [
    {
     "name": "stdout",
     "output_type": "stream",
     "text": [
      "Исходная матрица:\n",
      "\n",
      "[93, 66, 36, 55, 57] \n",
      "[49, 15, 19, 92, 11] \n",
      "[78, 27, 30, 56, 94] \n",
      "[66, 16, 51, 19, 42] \n",
      "\n",
      "\n",
      "Отсортированная матрица:\n",
      "\n",
      "[15, 19, 36, 11, 57] \n",
      "[27, 19, 42, 92, 55] \n",
      "[16, 49, 30, 56, 94] \n",
      "[66, 78, 51, 93, 66] \n"
     ]
    }
   ],
   "source": [
    "exercise4=Exercise4()\n",
    "exercise4.exercise_4()"
   ]
  },
  {
   "cell_type": "markdown",
   "metadata": {},
   "source": [
    "### Задача 5. «Стопки монет»\n",
    "На столе стоят 3n стопок монет. Вы и ваши друзья Алиса и Боб забираете стопки монет по следующему алгоритму:\n",
    "1. Вы выбираете 3 стопки монет из оставшихся на столе.\n",
    "2. Алиса забирает себе стопку с максимальным количеством монет.\n",
    "3. Вы забираете одну из двух оставшихся стопок.\n",
    "4. Боб забирает последнюю стопку.\n",
    "5. Если еще остались стопки, то действия повторяются с первого шага.\n",
    "\n",
    "Дан массив целых положительных чисел piles. Напишите функцию, возвращающую максимальное число монет, которое вы можете получить."
   ]
  },
  {
   "cell_type": "code",
   "execution_count": 86,
   "metadata": {},
   "outputs": [],
   "source": [
    "class Exercise5:\n",
    "    # Функция задания\n",
    "    def exercise_5(self):\n",
    "        piles=[2,4,1,2,7,8]\n",
    "        piles.sort()\n",
    "        result = 0\n",
    "        n = len(piles) // 3\n",
    "        \n",
    "        for i in range(n, len(piles), 2):\n",
    "            result += piles[i]\n",
    "            \n",
    "        print(\"Максимальное число монет: \",result)"
   ]
  },
  {
   "cell_type": "code",
   "execution_count": 87,
   "metadata": {},
   "outputs": [
    {
     "name": "stdout",
     "output_type": "stream",
     "text": [
      "Максимальное число монет:  9\n"
     ]
    }
   ],
   "source": [
    "exercise5=Exercise5()\n",
    "exercise5.exercise_5()"
   ]
  },
  {
   "cell_type": "markdown",
   "metadata": {},
   "source": [
    "### Задача 6. «Объединение отрезков»\n",
    "Дан массив отрезков intervals, в котором intervals[i] = [starti, endi], некоторые отрезки могут пересекаться. Напишите функцию, которая объединяет все пересекающиеся отрезки в один и возвращает новый массив непересекающихся отрезков."
   ]
  },
  {
   "cell_type": "code",
   "execution_count": 105,
   "metadata": {},
   "outputs": [],
   "source": [
    "class Exercise6:\n",
    "    # Функция задания\n",
    "    def exercise_6(self):\n",
    "        points = [[1,3],[2,6],[8,10],[15,18]]\n",
    "        result = []\n",
    "\n",
    "        print(\"Массив: \", points)\n",
    "        while len(points) > 0:\n",
    "            \n",
    "            count = 0\n",
    "            i = 1\n",
    "            start=points[0][0]\n",
    "            end=points[0][1]\n",
    "\n",
    "            while i<len(points) and end >= points[i][0]:\n",
    "                if points[i][1]>end:\n",
    "                    end=points[i][1]\n",
    "                i+=1\n",
    "                count+=1\n",
    "\n",
    "            temp = [start, end]\n",
    "            result.append(temp)\n",
    "\n",
    "            while count >= 0:\n",
    "                del points[count]\n",
    "                count -= 1\n",
    "            \n",
    "        print(\"\\nНовый массив: \",result)"
   ]
  },
  {
   "cell_type": "code",
   "execution_count": 106,
   "metadata": {},
   "outputs": [
    {
     "name": "stdout",
     "output_type": "stream",
     "text": [
      "Массив:  [[1, 3], [2, 6], [2, 5], [8, 10], [15, 18]]\n",
      "\n",
      "Новый массив:  [[1, 6], [8, 10], [15, 18]]\n"
     ]
    }
   ],
   "source": [
    "exercise6=Exercise6()\n",
    "exercise6.exercise_6()"
   ]
  },
  {
   "cell_type": "markdown",
   "metadata": {},
   "source": [
    "### Задача 7. «Задача на строки 1»\n",
    "Даны две строки: s1 и s2 с одинаковым размером, проверьте, может ли некоторая перестановка строки s1 “победить” некоторую перестановку строки s2 или наоборот. Строка x может “победить” строку y (обе имеют размер n), если x[i]> = y[i] (в алфавитном порядке) для всех i от 0 до n-1."
   ]
  },
  {
   "cell_type": "code",
   "execution_count": 69,
   "metadata": {},
   "outputs": [],
   "source": [
    "class Exercise7:\n",
    "    # Проверка следующей буквы\n",
    "    def check_next_letter(self,i,bigger,smaller,equality):\n",
    "        if i>=len(bigger):\n",
    "            return True\n",
    "        else:\n",
    "            if equality and not smaller[i]==bigger[i]:\n",
    "                if smaller[i]>bigger[i]:\n",
    "                    smaller,bigger =bigger,smaller\n",
    "                equality=False\n",
    "            return bigger[i]>=smaller[i] and self.check_next_letter(i+1,bigger,smaller,equality)\n",
    "\n",
    "    \n",
    "    # Функция задания \n",
    "    def exercise_7(self):\n",
    "        s1=list(input(\"Введите первую строку: \"))\n",
    "        s2=list(input(\"Введите вторую строку: \"))\n",
    "        s1.sort()\n",
    "        s2.sort()\n",
    "\n",
    "        if s1[0]>=s2[0]:\n",
    "            answer=self.check_next_letter(1,s1,s2,True)\n",
    "        else:\n",
    "            answer=self.check_next_letter(1,s2,s1,False)\n",
    "\n",
    "        print(\"\\nРезультат: \",answer)"
   ]
  },
  {
   "cell_type": "code",
   "execution_count": 70,
   "metadata": {},
   "outputs": [
    {
     "name": "stdout",
     "output_type": "stream",
     "text": [
      "Введите первую строку: abc\n",
      "Введите вторую строку: xya\n",
      "\n",
      "Результат:  True\n"
     ]
    }
   ],
   "source": [
    "exercise7=Exercise7()\n",
    "exercise7.exercise_7()"
   ]
  },
  {
   "cell_type": "markdown",
   "metadata": {},
   "source": [
    "### Задача 8. «Задача на строки 2»\n",
    "Дана строка s, вернуть самую длинную полиндромную подстроку в s."
   ]
  },
  {
   "cell_type": "code",
   "execution_count": 71,
   "metadata": {},
   "outputs": [],
   "source": [
    "class Exercise8:\n",
    "    # Получение полиндрома\n",
    "    def get_palindrome(self,text,start,end):\n",
    "        while end+1<len(text) and text[start]==text[end+1]:\n",
    "            end+=1\n",
    "\n",
    "        while start>0 and end+1<len(text) and text[start-1]==text[end+1]:\n",
    "            start-=1\n",
    "            end+=1\n",
    "\n",
    "        return text[start:end+1]\n",
    "    \n",
    "    \n",
    "    # Функция задания\n",
    "    def exercise_8(self):\n",
    "        text=input(\"Введите строку: \")\n",
    "        answer=\"\"\n",
    "\n",
    "        for i in range(len(text)):\n",
    "            temp=self.get_palindrome(text,i,i)\n",
    "\n",
    "            if len(answer)<len(temp):\n",
    "                answer=temp\n",
    "\n",
    "        print(\"\\nРезультат: \",answer)"
   ]
  },
  {
   "cell_type": "code",
   "execution_count": 72,
   "metadata": {},
   "outputs": [
    {
     "name": "stdout",
     "output_type": "stream",
     "text": [
      "Введите строку: babad\n",
      "\n",
      "Результат:  bab\n"
     ]
    }
   ],
   "source": [
    "exercise8=Exercise8()\n",
    "exercise8.exercise_8()"
   ]
  },
  {
   "cell_type": "markdown",
   "metadata": {},
   "source": [
    "### Задача 9. «Задача на строки 3»\n",
    "Вернуть количество отдельных непустых подстрок текста, которые могут быть записаны как конкатенация некоторой строки с самой собой (т.е. она может быть записана, как a + a, где a - некоторая строка)."
   ]
  },
  {
   "cell_type": "code",
   "execution_count": 109,
   "metadata": {},
   "outputs": [],
   "source": [
    "class Exercise9:\n",
    "    def exercise_9(self,):\n",
    "        text=\"abcabcabc\"\n",
    "        result=[]\n",
    "        \n",
    "        for step in range(1,(len(text)//2+1)):\n",
    "            for i in range(len(text)-2*step):\n",
    "                if text[i:i+step]==text[i+step:i+step+step]:\n",
    "                    result.append(text[i:i+step])\n",
    "    \n",
    "        print(\"Результат: \",len(result))"
   ]
  },
  {
   "cell_type": "code",
   "execution_count": 110,
   "metadata": {},
   "outputs": [
    {
     "name": "stdout",
     "output_type": "stream",
     "text": [
      "Результат:  3\n"
     ]
    }
   ],
   "source": [
    "exercise9=Exercise9()\n",
    "exercise9.exercise_9()"
   ]
  }
 ],
 "metadata": {
  "kernelspec": {
   "display_name": "Python 3",
   "language": "python",
   "name": "python3"
  },
  "language_info": {
   "codemirror_mode": {
    "name": "ipython",
    "version": 3
   },
   "file_extension": ".py",
   "mimetype": "text/x-python",
   "name": "python",
   "nbconvert_exporter": "python",
   "pygments_lexer": "ipython3",
   "version": "3.8.5"
  }
 },
 "nbformat": 4,
 "nbformat_minor": 4
}
