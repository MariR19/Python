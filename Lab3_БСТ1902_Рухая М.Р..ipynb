{
 "cells": [
  {
   "cell_type": "markdown",
   "metadata": {},
   "source": [
    "# Лабораторная работа №3\n",
    "## Выполнила студентка группы БСТ1902 Рухая М.Р."
   ]
  },
  {
   "cell_type": "markdown",
   "metadata": {},
   "source": [
    "### Задание №1\n",
    "Реализовать методы поиска подстроки в строке. Добавить возможность ввода строки и подстроки с клавиатуры. Предусмотреть возможность существования пробела. Реализовать возможность выбора опции чувствительности или нечувствительности к регистру. Оценить время работы каждого алгоритма поиска и сравнить его со временем работы стандартной функции поиска, используемой в выбранном языке программирования."
   ]
  },
  {
   "cell_type": "markdown",
   "metadata": {},
   "source": [
    "#### Метод Кнута-Морриса-Пратта"
   ]
  },
  {
   "cell_type": "code",
   "execution_count": 45,
   "metadata": {},
   "outputs": [],
   "source": [
    "def prefixCalc(text, find):\n",
    "    new_text= find + \"#\" + text\n",
    "    prefix =[]\n",
    "    for i in range(len(new_text)):\n",
    "        prefix.append(0)\n",
    "\n",
    "    for i in range(1, len(new_text)):\n",
    "        k = prefix[i - 1]\n",
    "        while k > 0 and new_text[k] != new_text[i]:\n",
    "            k = prefix[k - 1]\n",
    "        if new_text[k] == new_text[i]:\n",
    "            k += 1\n",
    "        prefix[i] = k\n",
    "\n",
    "    return prefix\n",
    "\n",
    "\n",
    "def searchKMP(text, find, ignore):\n",
    "    result =[]\n",
    "    if ignore:\n",
    "        text=text.lower()\n",
    "        find=find.lower()\n",
    "        \n",
    "    prefix= prefixCalc(text, find)\n",
    "    prefix= prefix[len(find) + 1:]\n",
    "\n",
    "    for i in range(len(prefix)):\n",
    "        if prefix[i]==len(find):\n",
    "            result.append([i - len(find) + 1, i])\n",
    "\n",
    "    return result"
   ]
  },
  {
   "cell_type": "code",
   "execution_count": 46,
   "metadata": {},
   "outputs": [
    {
     "name": "stdout",
     "output_type": "stream",
     "text": [
      "\n",
      "Исходный текст: aababbbaaaba\n",
      "Подстрока: aba\n",
      "Чувствительность к регистру:\n",
      "1-Выкл\n",
      "2-Вкл\n",
      "1\n",
      "[[1, 3], [9, 11]]\n"
     ]
    }
   ],
   "source": [
    "text=input(\"\\nИсходный текст: \")\n",
    "search_str=input(\"Подстрока: \")\n",
    "\n",
    "print(\"Чувствительность к регистру:\\n1-Выкл\\n2-Вкл\")\n",
    "case=int(input())\n",
    "\n",
    "\n",
    "if(case==1):\n",
    "    result=searchKMP(text,search_str,True)\n",
    "else:\n",
    "    result=searchKMP(text,search_str,False)\n",
    "\n",
    "print(result)"
   ]
  },
  {
   "cell_type": "markdown",
   "metadata": {},
   "source": [
    "#### Метод Бойера-Мура"
   ]
  },
  {
   "cell_type": "code",
   "execution_count": 54,
   "metadata": {},
   "outputs": [],
   "source": [
    "def tableCalc(find):\n",
    "    length=len(find)\n",
    "    table = []\n",
    "    for i in range(256):\n",
    "        table.append(length)\n",
    "\n",
    "    for i in range(length - 1):\n",
    "        table[ord(find[i])] = length - 1 - i\n",
    "    return table\n",
    "\n",
    "\n",
    "def searchBM(text, find, ignore):\n",
    "    result = []\n",
    "    nxt = 0\n",
    "    length=len(find)\n",
    "    if ignore:\n",
    "        text=text.lower()\n",
    "        find=find.lower()\n",
    "\n",
    "    table = tableCalc(find)\n",
    "    while len(text) - nxt >= length:\n",
    "        if text[nxt:(nxt + length)] == find:\n",
    "            result.append((nxt, nxt + length - 1))\n",
    "        nxt += table[ord(text[nxt + length - 1])]\n",
    "    return result"
   ]
  },
  {
   "cell_type": "code",
   "execution_count": 55,
   "metadata": {},
   "outputs": [
    {
     "name": "stdout",
     "output_type": "stream",
     "text": [
      "\n",
      "Исходный текст: oloaf lolopmaol\n",
      "Подстрока: olo\n",
      "Чувствительность к регистру:\n",
      "1-Выкл\n",
      "2-Вкл\n",
      "1\n",
      "[(0, 2), (7, 9)]\n"
     ]
    }
   ],
   "source": [
    "text=input(\"\\nИсходный текст: \")\n",
    "search_str=input(\"Подстрока: \")\n",
    "\n",
    "print(\"Чувствительность к регистру:\\n1-Выкл\\n2-Вкл\")\n",
    "case=int(input())\n",
    "\n",
    "\n",
    "if(case==1):\n",
    "    result=searchBM(text,search_str,True)\n",
    "else:\n",
    "    result=searchBM(text,search_str,False)\n",
    "\n",
    "print(result)"
   ]
  },
  {
   "cell_type": "markdown",
   "metadata": {},
   "source": [
    "### Задание №2 «Пятнашки»\n",
    "Написать программу, определяющую, является ли данное расположение «решаемым», то есть можно ли из него за конечное число шагов перейти к правильному. Если это возможно, то необходимо найти хотя бы одно решение - последовательность движений, после которой числа будут расположены в правильном порядке."
   ]
  },
  {
   "cell_type": "markdown",
   "metadata": {},
   "source": [
    "Программа была выполнена на языке Java, исходный код доступен по ссылке: https://github.com/MariR19/Python/tree/main/CAOD_Solver15/src"
   ]
  },
  {
   "cell_type": "markdown",
   "metadata": {},
   "source": [
    "### Вывод "
   ]
  },
  {
   "cell_type": "markdown",
   "metadata": {},
   "source": [
    "В ходе работы выполнили следующее:\n",
    "- реализованы два алгоритма поиска подстроки в строке: \n",
    "    - алгоритм Кнута-Мориса-Прата; \n",
    "    - упрощенный алгоритм Бойера-Мура. \n",
    "- реализован алгоритм решения \"пятнашек\", который способен определить, возможно ли решить заданную расстановку фигур на доске, и, если возможно, то выводит ход решения за минимально возможное количество ходов."
   ]
  }
 ],
 "metadata": {
  "kernelspec": {
   "display_name": "Python 3",
   "language": "python",
   "name": "python3"
  },
  "language_info": {
   "codemirror_mode": {
    "name": "ipython",
    "version": 3
   },
   "file_extension": ".py",
   "mimetype": "text/x-python",
   "name": "python",
   "nbconvert_exporter": "python",
   "pygments_lexer": "ipython3",
   "version": "3.8.5"
  }
 },
 "nbformat": 4,
 "nbformat_minor": 4
}
