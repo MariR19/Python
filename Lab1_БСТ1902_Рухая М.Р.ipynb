{
 "cells": [
  {
   "cell_type": "markdown",
   "metadata": {},
   "source": [
    "# Лабораторная работа №1\n",
    "## Выполнила студентка группы БСТ1902 Рухая М.Р.\n",
    "Напишите программу для вывода фразы \"Hello, Wolrd!\". Написать генератор случайных матриц. Реализовать методы сортировки строк числовой матрицы. Создать публичный репозиторий на github, и запушить выполненное задание в .ipynb формате."
   ]
  },
  {
   "cell_type": "markdown",
   "metadata": {},
   "source": [
    "### Задание №1\n",
    "Напишите программу для вывода фразы \"Hello, Wolrd!\"."
   ]
  },
  {
   "cell_type": "code",
   "execution_count": 2,
   "metadata": {
    "scrolled": false
   },
   "outputs": [
    {
     "name": "stdout",
     "output_type": "stream",
     "text": [
      "Hello, World!\n"
     ]
    }
   ],
   "source": [
    "print(\"Hello, World!\")"
   ]
  },
  {
   "cell_type": "markdown",
   "metadata": {},
   "source": [
    "### Задание №2\n",
    "Написать генератор случайных матриц."
   ]
  },
  {
   "cell_type": "code",
   "execution_count": 8,
   "metadata": {
    "scrolled": true
   },
   "outputs": [
    {
     "name": "stdout",
     "output_type": "stream",
     "text": [
      "Введите колличество строк матрицы: 10\n",
      "Введите колличество столбцов матрицы: 9\n",
      "Введите минимальное значение для генерируемого числа: 7\n",
      "Введите максимальное значение для генерируемого числа: 100\n",
      "[[74. 89. 32. 24. 72. 57. 12. 22. 24.]\n",
      " [22. 77. 47. 75. 60. 75. 76. 64. 46.]\n",
      " [41. 60. 54. 88. 75. 15. 68. 41. 61.]\n",
      " [43. 57. 95. 55.  7. 27. 55. 11. 49.]\n",
      " [12. 49. 99. 32. 60. 90. 86.  9. 19.]\n",
      " [30. 81. 93. 50. 98. 37. 41. 99. 47.]\n",
      " [94. 92. 75. 21. 54. 88. 89. 44. 28.]\n",
      " [93. 58. 70. 99. 38. 86. 58. 78. 79.]\n",
      " [ 9. 80. 52. 54. 68.  7. 58. 88. 20.]\n",
      " [95. 37. 69. 56. 48. 14. 90.  9. 14.]]\n"
     ]
    }
   ],
   "source": [
    "import numpy\n",
    "import random\n",
    "\n",
    "#Ввод значений для матрицы\n",
    "m=input(\"Введите колличество строк матрицы: \")\n",
    "n=input(\"Введите колличество столбцов матрицы: \")\n",
    "min_lim=input(\"Введите минимальное значение для генерируемого числа: \")\n",
    "max_lim=input(\"Введите максимальное значение для генерируемого числа: \")\n",
    "\n",
    "#Значения по умолчанию\n",
    "if len(m)==0: m=50\n",
    "if len(n)==0: n=50\n",
    "if len(min_lim)==0: min_lim=-250\n",
    "if len(max_lim)==0: max_lim=1017\n",
    "\n",
    "#Генератор матрицы\n",
    "matrix=numpy.zeros((int(m),int(n)))\n",
    "for i in range(int(m)):\n",
    "    for j in range(int(n)):\n",
    "        matrix[i][j]=random.randint(int(min_lim),int(max_lim))\n",
    "\n",
    "print(matrix)"
   ]
  },
  {
   "cell_type": "markdown",
   "metadata": {},
   "source": [
    "### Задание №3\n",
    "Реализовать методы сортировки строк числовой матрицы."
   ]
  },
  {
   "cell_type": "markdown",
   "metadata": {},
   "source": [
    "#### Выборка"
   ]
  },
  {
   "cell_type": "code",
   "execution_count": 26,
   "metadata": {
    "scrolled": true
   },
   "outputs": [],
   "source": [
    "def SelectionSort(matrix_old):\n",
    "    matrix_sort=matrix_old.copy()\n",
    "    for h in range(int(m)):\n",
    "        for i in range(int(n)-1):\n",
    "            min=i\n",
    "            for j in range(i+1, int(n)):\n",
    "                if (matrix_sort[h][j]<matrix_sort[h][min]):\n",
    "                    min=j\n",
    "            matrix_sort[h][i],matrix_sort[h][min]=matrix_sort[h][min],matrix_sort[h][i]\n",
    "    return matrix_sort"
   ]
  },
  {
   "cell_type": "code",
   "execution_count": 27,
   "metadata": {
    "scrolled": true
   },
   "outputs": [
    {
     "name": "stdout",
     "output_type": "stream",
     "text": [
      "[[74. 89. 32. 24. 72. 57. 12. 22. 24.]\n",
      " [22. 77. 47. 75. 60. 75. 76. 64. 46.]\n",
      " [41. 60. 54. 88. 75. 15. 68. 41. 61.]\n",
      " [43. 57. 95. 55.  7. 27. 55. 11. 49.]\n",
      " [12. 49. 99. 32. 60. 90. 86.  9. 19.]\n",
      " [30. 81. 93. 50. 98. 37. 41. 99. 47.]\n",
      " [94. 92. 75. 21. 54. 88. 89. 44. 28.]\n",
      " [93. 58. 70. 99. 38. 86. 58. 78. 79.]\n",
      " [ 9. 80. 52. 54. 68.  7. 58. 88. 20.]\n",
      " [95. 37. 69. 56. 48. 14. 90.  9. 14.]] \n",
      "\n",
      "[[12. 22. 24. 24. 32. 57. 72. 74. 89.]\n",
      " [22. 46. 47. 60. 64. 75. 75. 76. 77.]\n",
      " [15. 41. 41. 54. 60. 61. 68. 75. 88.]\n",
      " [ 7. 11. 27. 43. 49. 55. 55. 57. 95.]\n",
      " [ 9. 12. 19. 32. 49. 60. 86. 90. 99.]\n",
      " [30. 37. 41. 47. 50. 81. 93. 98. 99.]\n",
      " [21. 28. 44. 54. 75. 88. 89. 92. 94.]\n",
      " [38. 58. 58. 70. 78. 79. 86. 93. 99.]\n",
      " [ 7.  9. 20. 52. 54. 58. 68. 80. 88.]\n",
      " [ 9. 14. 14. 37. 48. 56. 69. 90. 95.]]\n"
     ]
    }
   ],
   "source": [
    "print(matrix, \"\\n\")\n",
    "print(SelectionSort(matrix))"
   ]
  },
  {
   "cell_type": "markdown",
   "metadata": {},
   "source": [
    "#### Вставка"
   ]
  },
  {
   "cell_type": "code",
   "execution_count": 11,
   "metadata": {},
   "outputs": [],
   "source": [
    "def InsertSort(matrix_old):\n",
    "    matrix_sort=matrix_old.copy()\n",
    "    for h in range(int(m)):\n",
    "        for i in range(1, int(n)):\n",
    "            temp=matrix_sort[h][i]\n",
    "            j=i-1\n",
    "            while (j>=0 and temp<matrix_sort[h][j]):\n",
    "                matrix_sort[h][j+1]=matrix_sort[h][j]\n",
    "                j-=1\n",
    "            matrix_sort[h][j+1]=temp\n",
    "    return matrix_sort"
   ]
  },
  {
   "cell_type": "code",
   "execution_count": 12,
   "metadata": {},
   "outputs": [
    {
     "name": "stdout",
     "output_type": "stream",
     "text": [
      "[[74. 89. 32. 24. 72. 57. 12. 22. 24.]\n",
      " [22. 77. 47. 75. 60. 75. 76. 64. 46.]\n",
      " [41. 60. 54. 88. 75. 15. 68. 41. 61.]\n",
      " [43. 57. 95. 55.  7. 27. 55. 11. 49.]\n",
      " [12. 49. 99. 32. 60. 90. 86.  9. 19.]\n",
      " [30. 81. 93. 50. 98. 37. 41. 99. 47.]\n",
      " [94. 92. 75. 21. 54. 88. 89. 44. 28.]\n",
      " [93. 58. 70. 99. 38. 86. 58. 78. 79.]\n",
      " [ 9. 80. 52. 54. 68.  7. 58. 88. 20.]\n",
      " [95. 37. 69. 56. 48. 14. 90.  9. 14.]] \n",
      "\n",
      "[[12. 22. 24. 24. 32. 57. 72. 74. 89.]\n",
      " [22. 46. 47. 60. 64. 75. 75. 76. 77.]\n",
      " [15. 41. 41. 54. 60. 61. 68. 75. 88.]\n",
      " [ 7. 11. 27. 43. 49. 55. 55. 57. 95.]\n",
      " [ 9. 12. 19. 32. 49. 60. 86. 90. 99.]\n",
      " [30. 37. 41. 47. 50. 81. 93. 98. 99.]\n",
      " [21. 28. 44. 54. 75. 88. 89. 92. 94.]\n",
      " [38. 58. 58. 70. 78. 79. 86. 93. 99.]\n",
      " [ 7.  9. 20. 52. 54. 58. 68. 80. 88.]\n",
      " [ 9. 14. 14. 37. 48. 56. 69. 90. 95.]]\n"
     ]
    }
   ],
   "source": [
    "print(matrix, \"\\n\")\n",
    "print(InsertSort(matrix))"
   ]
  },
  {
   "cell_type": "markdown",
   "metadata": {},
   "source": [
    "#### Обмен"
   ]
  },
  {
   "cell_type": "code",
   "execution_count": 13,
   "metadata": {},
   "outputs": [],
   "source": [
    "def BubbleSort(matrix_old):\n",
    "    matrix_sort=matrix_old.copy()\n",
    "    for h in range(int(m)):\n",
    "        for i in range(int(n)):\n",
    "            for j in range(int(n)-i-1):\n",
    "                if matrix_sort[h][j+1]<matrix_sort[h][j]:\n",
    "                    matrix_sort[h][j],matrix_sort[h][j+1]=matrix_sort[h][j+1],matrix_sort[h][j]\n",
    "    return matrix_sort"
   ]
  },
  {
   "cell_type": "code",
   "execution_count": 14,
   "metadata": {
    "scrolled": true
   },
   "outputs": [
    {
     "name": "stdout",
     "output_type": "stream",
     "text": [
      "[[74. 89. 32. 24. 72. 57. 12. 22. 24.]\n",
      " [22. 77. 47. 75. 60. 75. 76. 64. 46.]\n",
      " [41. 60. 54. 88. 75. 15. 68. 41. 61.]\n",
      " [43. 57. 95. 55.  7. 27. 55. 11. 49.]\n",
      " [12. 49. 99. 32. 60. 90. 86.  9. 19.]\n",
      " [30. 81. 93. 50. 98. 37. 41. 99. 47.]\n",
      " [94. 92. 75. 21. 54. 88. 89. 44. 28.]\n",
      " [93. 58. 70. 99. 38. 86. 58. 78. 79.]\n",
      " [ 9. 80. 52. 54. 68.  7. 58. 88. 20.]\n",
      " [95. 37. 69. 56. 48. 14. 90.  9. 14.]] \n",
      "\n",
      "[[12. 22. 24. 24. 32. 57. 72. 74. 89.]\n",
      " [22. 46. 47. 60. 64. 75. 75. 76. 77.]\n",
      " [15. 41. 41. 54. 60. 61. 68. 75. 88.]\n",
      " [ 7. 11. 27. 43. 49. 55. 55. 57. 95.]\n",
      " [ 9. 12. 19. 32. 49. 60. 86. 90. 99.]\n",
      " [30. 37. 41. 47. 50. 81. 93. 98. 99.]\n",
      " [21. 28. 44. 54. 75. 88. 89. 92. 94.]\n",
      " [38. 58. 58. 70. 78. 79. 86. 93. 99.]\n",
      " [ 7.  9. 20. 52. 54. 58. 68. 80. 88.]\n",
      " [ 9. 14. 14. 37. 48. 56. 69. 90. 95.]]\n"
     ]
    }
   ],
   "source": [
    "print(matrix, \"\\n\")\n",
    "print(BubbleSort(matrix))"
   ]
  },
  {
   "cell_type": "markdown",
   "metadata": {},
   "source": [
    "#### Шелл"
   ]
  },
  {
   "cell_type": "code",
   "execution_count": 15,
   "metadata": {},
   "outputs": [],
   "source": [
    "def ShellSort(matrix_old):\n",
    "    matrix_sort=matrix_old.copy()\n",
    "    for h in range(int(m)):\n",
    "        step=int(n)//2\n",
    "        while step>0:\n",
    "            for i in range(int(n)):\n",
    "                for j in range(i+step,int(n),step):\n",
    "                    if matrix_sort[h][i]>matrix_sort[h][j]:\n",
    "                        matrix_sort[h][i],matrix_sort[h][j]=matrix_sort[h][j],matrix_sort[h][i]\n",
    "            step//=2\n",
    "    return matrix_sort"
   ]
  },
  {
   "cell_type": "code",
   "execution_count": 16,
   "metadata": {},
   "outputs": [
    {
     "name": "stdout",
     "output_type": "stream",
     "text": [
      "[[74. 89. 32. 24. 72. 57. 12. 22. 24.]\n",
      " [22. 77. 47. 75. 60. 75. 76. 64. 46.]\n",
      " [41. 60. 54. 88. 75. 15. 68. 41. 61.]\n",
      " [43. 57. 95. 55.  7. 27. 55. 11. 49.]\n",
      " [12. 49. 99. 32. 60. 90. 86.  9. 19.]\n",
      " [30. 81. 93. 50. 98. 37. 41. 99. 47.]\n",
      " [94. 92. 75. 21. 54. 88. 89. 44. 28.]\n",
      " [93. 58. 70. 99. 38. 86. 58. 78. 79.]\n",
      " [ 9. 80. 52. 54. 68.  7. 58. 88. 20.]\n",
      " [95. 37. 69. 56. 48. 14. 90.  9. 14.]] \n",
      "\n",
      "[[12. 22. 24. 24. 32. 57. 72. 74. 89.]\n",
      " [22. 46. 47. 60. 64. 75. 75. 76. 77.]\n",
      " [15. 41. 41. 54. 60. 61. 68. 75. 88.]\n",
      " [ 7. 11. 27. 43. 49. 55. 55. 57. 95.]\n",
      " [ 9. 12. 19. 32. 49. 60. 86. 90. 99.]\n",
      " [30. 37. 41. 47. 50. 81. 93. 98. 99.]\n",
      " [21. 28. 44. 54. 75. 88. 89. 92. 94.]\n",
      " [38. 58. 58. 70. 78. 79. 86. 93. 99.]\n",
      " [ 7.  9. 20. 52. 54. 58. 68. 80. 88.]\n",
      " [ 9. 14. 14. 37. 48. 56. 69. 90. 95.]]\n"
     ]
    }
   ],
   "source": [
    "print(matrix, \"\\n\")\n",
    "print(ShellSort(matrix))"
   ]
  },
  {
   "cell_type": "markdown",
   "metadata": {},
   "source": [
    "#### Турнирная"
   ]
  },
  {
   "cell_type": "code",
   "execution_count": 2,
   "metadata": {},
   "outputs": [],
   "source": [
    "def tournament_sort(arr):\n",
    "    tree = [None] * 2 * (len(arr) + len(arr) % 2)\n",
    "    index = len(tree) - len(arr) - len(arr) % 2\n",
    "    \n",
    "    for i, v in enumerate(arr):\n",
    "        tree[index + i] = (i, v)\n",
    "    \n",
    "    for j in range(len(arr)):\n",
    "        n = len(arr)\n",
    "        index = len(tree) - len(arr) - len(arr) % 2\n",
    "        while index > -1:\n",
    "            n = (n + 1) // 2\n",
    "            for i in range(n):\n",
    "                i = max(index + i * 2, 1) \n",
    "                if tree[i] != None and tree[i + 1] != None:\n",
    "                    if tree[i][1] < tree[i + 1][1]:\n",
    "                        tree[i // 2] = tree[i]\n",
    "                    else:\n",
    "                        tree[i // 2] = tree[i + 1]\n",
    "                else:\n",
    "                    tree[i // 2] = tree[i] if tree[i] != None else tree[i + 1]\n",
    "            index -= n\n",
    "\n",
    "        index, x = tree[0]\n",
    "        arr[j] = x\n",
    "        tree[len(tree) - len(arr) - len(arr) % 2 + index] = None"
   ]
  },
  {
   "cell_type": "markdown",
   "metadata": {},
   "source": [
    "#### Быстрая"
   ]
  },
  {
   "cell_type": "code",
   "execution_count": 17,
   "metadata": {},
   "outputs": [],
   "source": [
    "def QuickSort_one(matrix_old):\n",
    "    matrix_sort=matrix_old.copy()\n",
    "    for h in range(int(m)):\n",
    "        QuickSort_two(0,int(m)-2,matrix_sort,h)\n",
    "    return matrix_sort\n",
    "\n",
    "def QuickSort_two(_first, _last, _array, row):\n",
    "    first=int(_first)\n",
    "    last=int(_last)\n",
    "    middle=int((first+last)/2)\n",
    "    \n",
    "    while (first<last):\n",
    "        \n",
    "        while( _array[row][first] < _array[row][middle]): \n",
    "            first+=1\n",
    "        while( _array[row][last] > _array[row][middle]):\n",
    "            last-=1\n",
    "        if(first<=last):\n",
    "            _array[row][first],_array[row][last]=_array[row][last],_array[row][first]\n",
    "            first+=1\n",
    "            last-=1\n",
    "    \n",
    "    if(_first<last):\n",
    "        QuickSort_two(_first,last,_array,row)\n",
    "    if(first<_last):\n",
    "        QuickSort_two(first,_last,_array,row)"
   ]
  },
  {
   "cell_type": "code",
   "execution_count": 18,
   "metadata": {},
   "outputs": [
    {
     "name": "stdout",
     "output_type": "stream",
     "text": [
      "[[74. 89. 32. 24. 72. 57. 12. 22. 24.]\n",
      " [22. 77. 47. 75. 60. 75. 76. 64. 46.]\n",
      " [41. 60. 54. 88. 75. 15. 68. 41. 61.]\n",
      " [43. 57. 95. 55.  7. 27. 55. 11. 49.]\n",
      " [12. 49. 99. 32. 60. 90. 86.  9. 19.]\n",
      " [30. 81. 93. 50. 98. 37. 41. 99. 47.]\n",
      " [94. 92. 75. 21. 54. 88. 89. 44. 28.]\n",
      " [93. 58. 70. 99. 38. 86. 58. 78. 79.]\n",
      " [ 9. 80. 52. 54. 68.  7. 58. 88. 20.]\n",
      " [95. 37. 69. 56. 48. 14. 90.  9. 14.]] \n",
      "\n",
      "[[12. 22. 24. 24. 32. 57. 72. 74. 89.]\n",
      " [22. 46. 47. 60. 64. 75. 75. 76. 77.]\n",
      " [15. 41. 41. 54. 60. 61. 68. 75. 88.]\n",
      " [ 7. 11. 27. 43. 49. 55. 55. 57. 95.]\n",
      " [ 9. 12. 19. 32. 49. 60. 86. 90. 99.]\n",
      " [30. 37. 41. 47. 50. 81. 93. 98. 99.]\n",
      " [21. 28. 44. 54. 75. 88. 89. 92. 94.]\n",
      " [38. 58. 70. 58. 78. 79. 86. 93. 99.]\n",
      " [ 7.  9. 20. 52. 54. 58. 68. 80. 88.]\n",
      " [ 9. 14. 14. 37. 48. 56. 69. 90. 95.]]\n"
     ]
    }
   ],
   "source": [
    "print(matrix, \"\\n\")\n",
    "matrix_new=matrix.copy()\n",
    "print(QuickSort_one(matrix_new))"
   ]
  },
  {
   "cell_type": "markdown",
   "metadata": {},
   "source": [
    "#### Пирамидальная"
   ]
  },
  {
   "cell_type": "code",
   "execution_count": 5,
   "metadata": {},
   "outputs": [],
   "source": [
    "def heapify(arr, n, i):\n",
    "    largest = i \n",
    "    l = 2 * i + 1   \n",
    "    r = 2 * i + 2  \n",
    "    if l < n and arr[i] < arr[l]:\n",
    "        largest = l\n",
    "    if r < n and arr[largest] < arr[r]:\n",
    "        largest = r\n",
    "    if largest != i:\n",
    "        arr[i], arr[largest] = arr[largest], arr[i] \n",
    "        heapify(arr, n, largest)\n",
    "\n",
    "def heap_sort(arr):\n",
    "    n = len(arr)\n",
    "    for i in range(n, -1, -1):\n",
    "        heapify(arr, n, i)\n",
    "    for i in range(n-1, 0, -1):\n",
    "        arr[i], arr[0] = arr[0], arr[i]\n",
    "        heapify(arr, i, 0)"
   ]
  },
  {
   "cell_type": "markdown",
   "metadata": {},
   "source": [
    "### Вывод"
   ]
  },
  {
   "cell_type": "markdown",
   "metadata": {},
   "source": [
    "##### В ходе работы выполнили следующее:\n",
    "##### - Написали программу для вывода фразы \"Hello, Wolrd!\"; \n",
    "##### - Написали генератор случайных матриц;\n",
    "##### - Реализовать методы сортировки строк числовой матрицы;\n",
    "##### - Создали публичный репозиторий на github, и запушили выполненное задание в .ipynb формате."
   ]
  }
 ],
 "metadata": {
  "kernelspec": {
   "display_name": "Python 3",
   "language": "python",
   "name": "python3"
  },
  "language_info": {
   "codemirror_mode": {
    "name": "ipython",
    "version": 3
   },
   "file_extension": ".py",
   "mimetype": "text/x-python",
   "name": "python",
   "nbconvert_exporter": "python",
   "pygments_lexer": "ipython3",
   "version": "3.8.5"
  }
 },
 "nbformat": 4,
 "nbformat_minor": 4
}
